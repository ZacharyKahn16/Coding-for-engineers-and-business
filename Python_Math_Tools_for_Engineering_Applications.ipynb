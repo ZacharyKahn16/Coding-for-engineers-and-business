{
  "nbformat": 4,
  "nbformat_minor": 0,
  "metadata": {
    "colab": {
      "name": "Python Math Tools for Engineering Applications",
      "provenance": [],
      "collapsed_sections": [],
      "authorship_tag": "ABX9TyMvuptxpbsRJ3XIUt+wP58r",
      "include_colab_link": true
    },
    "kernelspec": {
      "name": "python3",
      "display_name": "Python 3"
    }
  },
  "cells": [
    {
      "cell_type": "markdown",
      "metadata": {
        "id": "view-in-github",
        "colab_type": "text"
      },
      "source": [
        "<a href=\"https://colab.research.google.com/github/ZacharyKahn16/Coding-for-engineers-and-business/blob/master/Python_Math_Tools_for_Engineering_Applications.ipynb\" target=\"_parent\"><img src=\"https://colab.research.google.com/assets/colab-badge.svg\" alt=\"Open In Colab\"/></a>"
      ]
    },
    {
      "cell_type": "markdown",
      "metadata": {
        "id": "JoziQ5U6g8zu"
      },
      "source": [
        "# Python Math Tools for Engineering Applications\n",
        "We use a lot of math in engineering. We often also talk about the following topics when solving engineering problems:\n",
        "- Numerical methods (using calculus to solve various types of equations)\n",
        "- Optimization (minimizing or maximizing some function)\n",
        "- Simulation\n",
        "- Statistics\n",
        "- Models\n",
        "\n",
        "What's interesting is that a lot of these problems can be solved using computers. More specifically, they can be solved by using code to build solutions to specific problems.\n",
        "\n",
        "Python is a programming language commonly used to solve engineering problems in the above areas. This workbook will go through examples of how to use Python to solve problems using numerical methods and optimization.\n",
        "\n",
        "This is a **brief** overview of what you can do with Python. Getting a taste of everything avialable takes time and practice. The goal Here is that you get an idea of what's out there and what can be done using some powerful Python math libraries.\n",
        "\n",
        "A library is a collection of code that has various functions that when given an input will perform a task and give you the output. For math libraries, these include:\n",
        "- Performing integration\n",
        "- Performing differentiation\n",
        "- Much, much, more\n",
        "\n",
        "## Prerequisites\n",
        "It is expected you know the basics of Python.\n",
        "You can check out a list of resources at the bottom of [this workbook](https://github.com/ZacharyKahn16/Coding-for-engineers-and-business/blob/master/Coding_For_Engineers.ipynb).\n",
        "\n",
        "## Material Covered in this workbook\n",
        "- How to compute a simple integral\n",
        "- How to optimize a function (find the min)\n",
        "- How to solve an ODE\n",
        "- How to curve fit\n",
        "\n",
        "Alright, let's get into it!\n",
        "\n",
        "## Libraries used throughout workbook\n",
        "There are two libraries used in all the examples:\n",
        "- [numpy](https://numpy.org/doc/stable/user/absolute_beginners.html)\n",
        "- [scipy](https://docs.scipy.org/doc/scipy/reference/tutorial/index.html)\n",
        "\n",
        "There is so much you can do with these two libraries alone, so don't worry if you feel overwhelmed when you first take a look at them!\n",
        "\n",
        "I find it helps to think about the problem you want to solve, try to find an example similar to it, look at the code for that example, and then slowly work the existing solution towards you specific problem. Along the way, try to really understand what each line of code does. This is **crucial** because if you don't understand each line, then when something goes wrong (it always does...) it will be very difficult to figure out the problem.\n"
      ]
    },
    {
      "cell_type": "markdown",
      "metadata": {
        "id": "95FzQlRXwF9n"
      },
      "source": [
        "## Examples"
      ]
    },
    {
      "cell_type": "code",
      "metadata": {
        "id": "4LnzUnZQwM80"
      },
      "source": [
        "# Import required libraries\n",
        "import numpy as np\n",
        "import scipy"
      ],
      "execution_count": 1,
      "outputs": []
    },
    {
      "cell_type": "markdown",
      "metadata": {
        "id": "CUYM3WAuwH01"
      },
      "source": [
        "### How to compute a simple integral"
      ]
    },
    {
      "cell_type": "code",
      "metadata": {
        "id": "BTGJM_B3wLwo",
        "outputId": "5f5eeb48-6952-418b-cd02-b00aa11b4391",
        "colab": {
          "base_uri": "https://localhost:8080/",
          "height": 51
        }
      },
      "source": [
        "# Start with a simple integral\n",
        "\n",
        "# Import integral specific library\n",
        "from scipy import integrate\n",
        "\n",
        "# Define the function we want to integrate\n",
        "def my_func(x):\n",
        "  return x**2 + 3\n",
        "\n",
        "# Define the limits of integration\n",
        "lower, upper = 0, 4\n",
        "\n",
        "# Get the results\n",
        "integral, err = integrate.quad(my_func, lower, upper)\n",
        "\n",
        "print(\"Integral: {}\".format(integral))\n",
        "print(\"Erros: {}\".format(err))"
      ],
      "execution_count": 4,
      "outputs": [
        {
          "output_type": "stream",
          "text": [
            "Integral: 33.33333333333333\n",
            "Erros: 3.700743415417188e-13\n"
          ],
          "name": "stdout"
        }
      ]
    },
    {
      "cell_type": "code",
      "metadata": {
        "id": "r0buKnjOx4bO",
        "outputId": "7aa202d5-d3a6-403a-ea79-7e35bd9ad946",
        "colab": {
          "base_uri": "https://localhost:8080/",
          "height": 51
        }
      },
      "source": [
        "# How about performing a double integral?\n",
        "\n",
        "# Inner integral limits\n",
        "inner_lower, inner_upper = 0, 5\n",
        "# Outer integral limits\n",
        "outer_lower, outer_upper = 2, 4\n",
        "\n",
        "# Double integral function\n",
        "def dbl_func(x, t):\n",
        "  return x*t\n",
        "\n",
        "integral, err = integrate.dblquad(dbl_func, outer_lower, outer_upper,\n",
        "                                  lambda x: inner_lower, lambda x: inner_upper)\n",
        "\n",
        "print(\"Integral: {}\".format(integral))\n",
        "print(\"Erros: {}\".format(err))"
      ],
      "execution_count": 5,
      "outputs": [
        {
          "output_type": "stream",
          "text": [
            "Integral: 75.00000000000001\n",
            "Erros: 8.326672684688676e-13\n"
          ],
          "name": "stdout"
        }
      ]
    },
    {
      "cell_type": "markdown",
      "metadata": {
        "id": "5GLdo_2F09Q5"
      },
      "source": [
        "### How to optimize a function (find the min)"
      ]
    },
    {
      "cell_type": "code",
      "metadata": {
        "id": "3f4inKbc1AT3",
        "outputId": "6639f9ff-2f3d-48cd-9396-7aa2ab024f91",
        "colab": {
          "base_uri": "https://localhost:8080/",
          "height": 34
        }
      },
      "source": [
        "# Import optimize library\n",
        "from scipy.optimize import minimize_scalar\n",
        "\n",
        "# Define our function\n",
        "def func_to_min(x):\n",
        "  return x**2 + 5\n",
        "\n",
        "result = minimize_scalar(func_to_min)\n",
        "\n",
        "print(\"Minimum function value: {}\".format(result.fun))"
      ],
      "execution_count": 7,
      "outputs": [
        {
          "output_type": "stream",
          "text": [
            "Minimum function value: 5.0\n"
          ],
          "name": "stdout"
        }
      ]
    },
    {
      "cell_type": "markdown",
      "metadata": {
        "id": "I81yl2cQ201y"
      },
      "source": [
        "To do more complex optimizations, check out the [scipy.optimize documentation](https://docs.scipy.org/doc/scipy/reference/tutorial/optimize.html#global-optimization)."
      ]
    },
    {
      "cell_type": "markdown",
      "metadata": {
        "id": "5NTHSk5A3ACB"
      },
      "source": [
        "### How to solve an ODE\n",
        "\n",
        "ODEs come up all the time in engineering applications. We can solve these with Python as well!"
      ]
    },
    {
      "cell_type": "code",
      "metadata": {
        "id": "KpfJuBGd3Mqd"
      },
      "source": [
        "Great [example video](https://www.youtube.com/watch?v=U7uyj9BaNKg) we will be stepping through."
      ],
      "execution_count": null,
      "outputs": []
    },
    {
      "cell_type": "markdown",
      "metadata": {
        "id": "akaC5cI17g2l"
      },
      "source": [
        "Can solve ODEs using solve_ivp as well, great example [here](https://pundit.pratt.duke.edu/wiki/Python:Ordinary_Differential_Equations).\n",
        "\n",
        "Finally, can check out and example of how I used Python to do my [Chemical Reactor design](https://github.com/ZacharyKahn16/Chemical_Engineering_Reactor_Design/blob/master/ENCH%20531%20PBR%20Design.ipynb) for my capstone project."
      ]
    },
    {
      "cell_type": "markdown",
      "metadata": {
        "id": "SVQIgC_475f-"
      },
      "source": [
        "### How to curve fit\n",
        "\n",
        "Often times we have data and we want to fit a curve to it. Let's see how this can be done!*italicized text*"
      ]
    },
    {
      "cell_type": "code",
      "metadata": {
        "id": "gWlFZpdy89jL",
        "outputId": "3dfa8d91-eb59-4508-df14-ec3794cc94e2",
        "colab": {
          "base_uri": "https://localhost:8080/",
          "height": 286
        }
      },
      "source": [
        "# Example based off this one: https://docs.scipy.org/doc/scipy/reference/generated/scipy.optimize.curve_fit.html\n",
        "import matplotlib.pyplot as plt\n",
        "from scipy.optimize import curve_fit\n",
        "\n",
        "def func(x, a, b, c):\n",
        "    return a * np.exp(-b * x) + c\n",
        "\n",
        "xdata = np.linspace(0, 10, 100)\n",
        "y = func(xdata, 2.5, 1.3, 0.5)\n",
        "np.random.seed(1729)\n",
        "y_noise = 0.2 * np.random.normal(size=xdata.size)\n",
        "ydata = y + y_noise\n",
        "plt.plot(xdata, ydata, 'b-', label='data')"
      ],
      "execution_count": 9,
      "outputs": [
        {
          "output_type": "execute_result",
          "data": {
            "text/plain": [
              "[<matplotlib.lines.Line2D at 0x7f54e17dc470>]"
            ]
          },
          "metadata": {
            "tags": []
          },
          "execution_count": 9
        },
        {
          "output_type": "display_data",
          "data": {
            "image/png": "[encoded data removed]",
            "text/plain": [
              "<Figure size 432x288 with 1 Axes>"
            ]
          },
          "metadata": {
            "tags": [],
            "needs_background": "light"
          }
        }
      ]
    },
    {
      "cell_type": "code",
      "metadata": {
        "id": "M2MT0bgr9Kh1",
        "outputId": "c1b42090-9f88-4092-ac0d-2ea4859f5bb6",
        "colab": {
          "base_uri": "https://localhost:8080/",
          "height": 279
        }
      },
      "source": [
        "# Curve fit using same function\n",
        "popt, pcov = curve_fit(func, xdata, ydata)\n",
        "\n",
        "# Curve fit using guessed function\n",
        "def func_bad_guess(x, a, b, c):\n",
        "    return a*x**2 - b*x - c\n",
        "popt_2, pcov_2 = curve_fit(func_bad_guess, xdata, ydata)\n",
        "\n",
        "# Using a good guess for your data's shape\n",
        "plt.plot(xdata, func(xdata, *popt), 'g--',\n",
        "         label='fit: a=%5.3f, b=%5.3f, c=%5.3f' % tuple(popt))\n",
        "\n",
        "# Using a suboptimal function choice for your data's shape\n",
        "plt.plot(xdata, func_bad_guess(xdata, *popt_2), 'c--',\n",
        "         label='fit: a=%5.3f, b=%5.3f, c=%5.3f' % tuple(popt))\n",
        "\n",
        "# Original data\n",
        "plt.plot(xdata, ydata, 'b-', label='data')\n",
        "\n",
        "plt.xlabel('x')\n",
        "plt.ylabel('y')\n",
        "plt.legend()\n",
        "plt.show()"
      ],
      "execution_count": 22,
      "outputs": [
        {
          "output_type": "display_data",
          "data": {
            "image/png": "[encoded data removed]",
            "text/plain": [
              "<Figure size 432x288 with 1 Axes>"
            ]
          },
          "metadata": {
            "tags": [],
            "needs_background": "light"
          }
        }
      ]
    },
    {
      "cell_type": "markdown",
      "metadata": {
        "id": "FvdJQHgS_bJT"
      },
      "source": [
        "## Interested in a full course on this stuff?\n",
        "Thanks for going through the *Python Math Tools for Engineering Applications* notebook! I hope you enjoyed it.\n",
        "\n",
        "I am looking to see if it is worth making a full course based on this material. Who better to ask than the people who it would be for?\n",
        "\n",
        "Also, it would be great to your feedback on the presentation.\n",
        "\n",
        "If you could fill out the following Google Form, letting me know how I did and if you'd be interested in a course, that would be awesome!\n",
        "\n",
        "Form: https://forms.gle/Zqi1iYJRq9JrzPyA6"
      ]
    }
  ]
}