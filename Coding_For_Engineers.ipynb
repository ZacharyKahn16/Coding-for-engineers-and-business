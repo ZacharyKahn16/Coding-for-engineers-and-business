{
  "nbformat": 4,
  "nbformat_minor": 0,
  "metadata": {
    "kernelspec": {
      "display_name": "Python 3",
      "language": "python",
      "name": "python3"
    },
    "language_info": {
      "codemirror_mode": {
        "name": "ipython",
        "version": 2
      },
      "file_extension": ".py",
      "mimetype": "text/x-python",
      "name": "python",
      "nbconvert_exporter": "python",
      "pygments_lexer": "ipython2",
      "version": "2.7.17"
    },
    "colab": {
      "name": "Coding For Engineers.ipynb",
      "provenance": [],
      "collapsed_sections": []
    }
  },
  "cells": [
    {
      "cell_type": "markdown",
      "metadata": {
        "id": "6S1rbR5IT66G",
        "colab_type": "text"
      },
      "source": [
        "# Coding For Engineers\n",
        "\n",
        "Coding, it is a wonderful thing. In engineering we are taught how to solve problems, however most problems nowadays require a computer to be able to solve them **quickly and at scale**. This is where coding comes into play. While there are lots of things that could be considered, I have tried to condense it down into the areas I see as *most relevent for engineers*.\n",
        "\n",
        "Specifically, I have made this based on my own experience which is Computer Science and Chemical Engineering. The skills presented here are useful for anyone looking to:\n",
        "- **Automate** their work\n",
        "- Perform **numerical analysis** (like integration or differentiation)\n",
        "- Do **data analysis** (and from there some machine learning or other neat stuff)\n",
        "\n",
        "I also briefly mention what the cloud is and why it might be useful to start looking in to it with your company (hint: you are going to need it if you want to work with a lot of data).\n",
        "\n",
        "This is **not** a full course or tutorial, I am merely trying to show you the basics and will point you to the best resources I know and have used. Also, I am planning to make a course that goes into detail and larger examples about everything mentioned here. If you are interested in it, **please let me know** as I am always eager to find out if I am building something people actually want. You can [contact me](https://ca.linkedin.com/in/zachary-kahn) through LinkedIn."
      ]
    },
    {
      "cell_type": "markdown",
      "metadata": {
        "id": "vD2tkzgoT66J",
        "colab_type": "text"
      },
      "source": [
        "### Blurb about me\n",
        "Feel free to skip this, just wanted to give you a bit of background on me in case you are wondering why should listen to anything I say.\n",
        "\n",
        "My name is Zachary Kahn and I am the co-founder of [Compound Confidence](https://compoundconfidence.com/). I have a passion for helping people learn the skills and strategies that allow them to achieve anything they want while doing what they love. I interned at **Google** twice, and am starting there full time as a Software Engineer later this year. I graduated from university with a combined degree in Chemical Engineering and Computer Science and now focus on building great education and technology products."
      ]
    },
    {
      "cell_type": "markdown",
      "metadata": {
        "id": "cEQnvn5pT66J",
        "colab_type": "text"
      },
      "source": [
        "## Programming languages you will need\n",
        "Again, **don't be overwhelmed by the following list**. You will build up this knowledge over time. You don't need to master each one before moving onto the next one. Basically, learn the minimum amount needed to do whatever you need to, then start the next one. Building software to solve a real life problem is where you learn the most. Things will come together as you begin building, experimenting, getting frustrated, make break throughs, and repeat the whole process.\n",
        "\n",
        "Programming languages useful to engineers\n",
        "1. Python (most versatile in my opinion)\n",
        "2. SQL (good for manipulating large datasets)\n",
        "3. Bash (good for automating some things)"
      ]
    },
    {
      "cell_type": "markdown",
      "metadata": {
        "id": "kYTUXx9yT66K",
        "colab_type": "text"
      },
      "source": [
        "## Assumptions\n",
        "As engineers, am I assuming you have taken at least one programming course where you learned the basic programming constructs. These include:\n",
        "- loops\n",
        "- if statements\n",
        "- variables\n",
        "- objects\n",
        "- functions\n",
        "- arrays/lists\n",
        "- hopefully some other good stuff that rings a bell...\n",
        "\n",
        "There a few other useful features to know about, and I will be showing the Python notation for them next. Python is the language we will be using in this tutorial, but I will mention a few others. This tutorial is actually all being done through a [Jupyter Notebook](https://jupyter.org/)."
      ]
    },
    {
      "cell_type": "markdown",
      "metadata": {
        "id": "XIYDUolZT66L",
        "colab_type": "text"
      },
      "source": [
        "## Time to dive in\n",
        "Alright, with all that covered let's get into the material!\n",
        "\n",
        "First, we will cover same *very* basic syntax for Python. For SQL and Bash I will give some resources at the end of the notebook.\n",
        "\n",
        "Then we will dive into a few examples that show how you can use these languages for:\n",
        "- Automation\n",
        "- Numerical analysis\n",
        "- Data analysis and modelling"
      ]
    },
    {
      "cell_type": "markdown",
      "metadata": {
        "id": "B3k1UK25T66L",
        "colab_type": "text"
      },
      "source": [
        "### Python Syntax basics"
      ]
    },
    {
      "cell_type": "code",
      "metadata": {
        "id": "Y_SfpdKLT66M",
        "colab_type": "code",
        "colab": {
          "base_uri": "https://localhost:8080/",
          "height": 34
        },
        "outputId": "26f98408-f3eb-4780-a474-0c63dd924d98"
      },
      "source": [
        "## List\n",
        "myrange = range(10,20) # creates list from [10..19]\n",
        "print(myrange)"
      ],
      "execution_count": 1,
      "outputs": [
        {
          "output_type": "stream",
          "text": [
            "range(10, 20)\n"
          ],
          "name": "stdout"
        }
      ]
    },
    {
      "cell_type": "code",
      "metadata": {
        "id": "PzcpJAAgT66R",
        "colab_type": "code",
        "colab": {
          "base_uri": "https://localhost:8080/",
          "height": 391
        },
        "outputId": "04975f86-2728-4fca-d739-fe30d98accda"
      },
      "source": [
        "## Loops\n",
        "\n",
        "# For Loop\n",
        "print('For Loop')\n",
        "for ele in myrange:\n",
        "    print(ele)\n",
        "\n",
        "# While Loop\n",
        "print('While Loop')\n",
        "range_len = len(myrange) # number of elements in myrange list\n",
        "i = 0\n",
        "while i < range_len:\n",
        "    print(myrange[i])\n",
        "    i += 1"
      ],
      "execution_count": 2,
      "outputs": [
        {
          "output_type": "stream",
          "text": [
            "For Loop\n",
            "10\n",
            "11\n",
            "12\n",
            "13\n",
            "14\n",
            "15\n",
            "16\n",
            "17\n",
            "18\n",
            "19\n",
            "While Loop\n",
            "10\n",
            "11\n",
            "12\n",
            "13\n",
            "14\n",
            "15\n",
            "16\n",
            "17\n",
            "18\n",
            "19\n"
          ],
          "name": "stdout"
        }
      ]
    },
    {
      "cell_type": "code",
      "metadata": {
        "id": "od8_l3IIT66T",
        "colab_type": "code",
        "colab": {
          "base_uri": "https://localhost:8080/",
          "height": 51
        },
        "outputId": "d572a283-6931-4979-eaa0-981683e66c0f"
      },
      "source": [
        "# If, else, elif statements\n",
        "\n",
        "# Given a number as an output, let's treat it differently depending on the value.\n",
        "my_input = input('What is your favorite number?')\n",
        "\n",
        "# Convert from string to int\n",
        "my_input = int(my_input)\n",
        "\n",
        "if my_input < 10:\n",
        "    print('Small fav number')\n",
        "elif my_input < 100:\n",
        "    print('Medium fav number')\n",
        "else:\n",
        "    print('Large fav number')"
      ],
      "execution_count": 4,
      "outputs": [
        {
          "output_type": "stream",
          "text": [
            "What is your favorite number?5\n",
            "Small fav number\n"
          ],
          "name": "stdout"
        }
      ]
    },
    {
      "cell_type": "code",
      "metadata": {
        "id": "CeY2lzcFT66W",
        "colab_type": "code",
        "colab": {
          "base_uri": "https://localhost:8080/",
          "height": 34
        },
        "outputId": "55414f8f-41cb-4eae-e535-39d9d888432b"
      },
      "source": [
        "# Functions\n",
        "# This is nice for cleaning things up into nice chunks of code we can reuse.\n",
        "\n",
        "# Simple example, but hopefully illustrates the point and syntax.\n",
        "\n",
        "#               arguments to function go in between the brackets, and you can have 0 or more of them!\n",
        "def sum_of_list(my_list): \n",
        "    return sum(my_list)\n",
        "\n",
        "print(sum_of_list(range(10)))"
      ],
      "execution_count": 5,
      "outputs": [
        {
          "output_type": "stream",
          "text": [
            "45\n"
          ],
          "name": "stdout"
        }
      ]
    },
    {
      "cell_type": "markdown",
      "metadata": {
        "id": "fw9MbxpcT66Z",
        "colab_type": "text"
      },
      "source": [
        "Hopefully that is enough to get you started, at the end of this notebook you can find a list of resources if you want to learn more about Python programming."
      ]
    },
    {
      "cell_type": "markdown",
      "metadata": {
        "id": "6VSB4HHTT66a",
        "colab_type": "text"
      },
      "source": [
        "## Automation \n",
        "There are various repeatable tasks engineers would love to be able to automate in their job. From my experience, these are some of the following:\n",
        "- updating spreadsheets\n",
        "- piping output of one spreadsheet into another\n",
        "- changing the value of a row or column slighly without having to manually change each entry\n",
        "- iterative simple calculations\n",
        "- generating a list that has some intial values useful for further calculations\n",
        "\n",
        "Let's see how a bit of code can help with some these issues."
      ]
    },
    {
      "cell_type": "markdown",
      "metadata": {
        "id": "6dUPX5kpT66a",
        "colab_type": "text"
      },
      "source": [
        "### Upating Spreadsheets\n",
        "Often you can use a macro for this, but depending on the task coding can help as well. Let's look at a scenario.\n",
        "\n",
        "#### Scenario\n",
        "Your spreadsheet has a list of events, each with a cost code, and a remaining budget (per cost code). You want to add expenses (reduce remaining budget) to multiple cost code codes, and you only want an update to happen if the cost is less than the remaining budget.\n",
        "\n",
        "You could go through manually and do this, but it could be tedious if you have tons of events and cost codes. Let's automate it! Later I'll show you how to read in a spreadsheet, but for now, I'll make one.\n",
        "\n",
        "To do this we'll need [pandas](https://pandas.pydata.org/docs/), a data analysis package. They have a nice way to import csvs, which is why I'm choosing to use it."
      ]
    },
    {
      "cell_type": "code",
      "metadata": {
        "id": "A6WVWTHYT66g",
        "colab_type": "code",
        "colab": {}
      },
      "source": [
        "# import the package\n",
        "import pandas as pd\n",
        "import numpy as np"
      ],
      "execution_count": 0,
      "outputs": []
    },
    {
      "cell_type": "code",
      "metadata": {
        "id": "A5RdSXKDT66m",
        "colab_type": "code",
        "colab": {
          "base_uri": "https://localhost:8080/",
          "height": 204
        },
        "outputId": "dabd6085-6ad6-4038-9bc9-aed96bcdfd88"
      },
      "source": [
        "# Generate spreadsheet, we will cover how to read in a spreadsheet later\n",
        "budgets = pd.DataFrame(data={'event': [1,2,3,4,5], 'cost_code': [1,2,1,3,2], 'remaining_budget':[5,10,5,8,10]})\n",
        "budgets.head()"
      ],
      "execution_count": 124,
      "outputs": [
        {
          "output_type": "execute_result",
          "data": {
            "text/html": [
              "<div>\n",
              "<style scoped>\n",
              "    .dataframe tbody tr th:only-of-type {\n",
              "        vertical-align: middle;\n",
              "    }\n",
              "\n",
              "    .dataframe tbody tr th {\n",
              "        vertical-align: top;\n",
              "    }\n",
              "\n",
              "    .dataframe thead th {\n",
              "        text-align: right;\n",
              "    }\n",
              "</style>\n",
              "<table border=\"1\" class=\"dataframe\">\n",
              "  <thead>\n",
              "    <tr style=\"text-align: right;\">\n",
              "      <th></th>\n",
              "      <th>event</th>\n",
              "      <th>cost_code</th>\n",
              "      <th>remaining_budget</th>\n",
              "    </tr>\n",
              "  </thead>\n",
              "  <tbody>\n",
              "    <tr>\n",
              "      <th>0</th>\n",
              "      <td>1</td>\n",
              "      <td>1</td>\n",
              "      <td>5</td>\n",
              "    </tr>\n",
              "    <tr>\n",
              "      <th>1</th>\n",
              "      <td>2</td>\n",
              "      <td>2</td>\n",
              "      <td>10</td>\n",
              "    </tr>\n",
              "    <tr>\n",
              "      <th>2</th>\n",
              "      <td>3</td>\n",
              "      <td>1</td>\n",
              "      <td>5</td>\n",
              "    </tr>\n",
              "    <tr>\n",
              "      <th>3</th>\n",
              "      <td>4</td>\n",
              "      <td>3</td>\n",
              "      <td>8</td>\n",
              "    </tr>\n",
              "    <tr>\n",
              "      <th>4</th>\n",
              "      <td>5</td>\n",
              "      <td>2</td>\n",
              "      <td>10</td>\n",
              "    </tr>\n",
              "  </tbody>\n",
              "</table>\n",
              "</div>"
            ],
            "text/plain": [
              "   event  cost_code  remaining_budget\n",
              "0      1          1                 5\n",
              "1      2          2                10\n",
              "2      3          1                 5\n",
              "3      4          3                 8\n",
              "4      5          2                10"
            ]
          },
          "metadata": {
            "tags": []
          },
          "execution_count": 124
        }
      ]
    },
    {
      "cell_type": "code",
      "metadata": {
        "id": "7mKNu8uCVK9t",
        "colab_type": "code",
        "colab": {}
      },
      "source": [
        "def update_budget(budget_sheet, withdraw_from_cost_code):\n",
        "  ''' Update the each cost code in budget sheet\n",
        "  \n",
        "    Args:\n",
        "      budget_sheet: Dataframe that represents budget spreadsheet.\n",
        "      withdraw_from_cost_code: dictionary, where key is cost code, value is\n",
        "        amount to subtract from cost code.\n",
        "    \n",
        "    Returns:\n",
        "      Updated budget if all costs valid (not higher than remaining budget),\n",
        "      otherwise returns original budget.\n",
        "  '''\n",
        "\n",
        "  # print(budget_sheet.head())\n",
        "  # Create completely new copy of spreadsheet (this is ok assuming spreadsheet\n",
        "  # is not too large, like < 50 Mb).\n",
        "  updated_budget = budget_sheet.copy()\n",
        "\n",
        "  for cost_code, new_cost in withdraw_from_cost_code.items():\n",
        "    # print(k,v)\n",
        "    # print(budget_sheet.where(budget_sheet['cost_code'] == 5).dropna().shape)\n",
        "    cost_code_filter = budget_sheet['cost_code'] == cost_code\n",
        "    remaining_budget_filter = budget_sheet['remaining_budget'] >= new_cost\n",
        "    print(budget_sheet.where(cost_code_filter).dropna())\n",
        "\n",
        "    tmp_budget = budget_sheet.where(cost_code_filter).dropna()\n",
        "    # print(cost_code_filter)\n",
        "    # For current cost_code check all events have enough money.\n",
        "    if tmp_budget.shape[0] > 0:\n",
        "      orig_rows = tmp_budget.shape[0]\n",
        "      after_filter_rows = tmp_budget.where(remaining_budget_filter).dropna().shape[0]\n",
        "      if orig_rows != after_filter_rows:\n",
        "        print('The cost of {} for cost code {} exceeds remaining budget of at least one event.'.format(new_cost, cost_code))\n",
        "        print('Returning original budget')\n",
        "        return budget_sheet\n",
        "      \n",
        "      # update budget\n",
        "      # update_budget['cost_cost'] = update_budget['cost_cost'].apply(lambda x: x - new_cost)\n",
        "      print('made it')\n",
        "      # print(updated_budget['cost_code'].apply(lambda x: x - new_cost))\n",
        "      print(np.where(cost_code_filter & remaining_budget_filter,\n",
        "                                                    updated_budget['remaining_budget'] - new_cost,\n",
        "                                                    updated_budget['remaining_budget']))\n",
        "      updated_budget['remaining_budget'] = np.where(cost_code_filter & remaining_budget_filter,\n",
        "                                                    updated_budget['remaining_budget'] - new_cost,\n",
        "                                                    updated_budget['remaining_budget'])\n",
        "  return updated_budget\n"
      ],
      "execution_count": 0,
      "outputs": []
    },
    {
      "cell_type": "code",
      "metadata": {
        "id": "ORjGNBrjWRJ4",
        "colab_type": "code",
        "colab": {
          "base_uri": "https://localhost:8080/",
          "height": 391
        },
        "outputId": "8e7298bf-9800-4d12-9173-efec1e72e177"
      },
      "source": [
        "updated_budget = update_budget(budgets, {1: 4})\n",
        "updated_budget.head()"
      ],
      "execution_count": 132,
      "outputs": [
        {
          "output_type": "stream",
          "text": [
            "   event  cost_code  remaining_budget\n",
            "0    1.0        1.0               5.0\n",
            "2    3.0        1.0               5.0\n",
            "made it\n",
            "[ 1 10  1  8 10]\n",
            "   event  cost_code  remaining_budget\n",
            "0      1          1                 1\n",
            "1      2          2                10\n",
            "2      3          1                 1\n",
            "3      4          3                 8\n",
            "4      5          2                10\n"
          ],
          "name": "stdout"
        },
        {
          "output_type": "execute_result",
          "data": {
            "text/html": [
              "<div>\n",
              "<style scoped>\n",
              "    .dataframe tbody tr th:only-of-type {\n",
              "        vertical-align: middle;\n",
              "    }\n",
              "\n",
              "    .dataframe tbody tr th {\n",
              "        vertical-align: top;\n",
              "    }\n",
              "\n",
              "    .dataframe thead th {\n",
              "        text-align: right;\n",
              "    }\n",
              "</style>\n",
              "<table border=\"1\" class=\"dataframe\">\n",
              "  <thead>\n",
              "    <tr style=\"text-align: right;\">\n",
              "      <th></th>\n",
              "      <th>event</th>\n",
              "      <th>cost_code</th>\n",
              "      <th>remaining_budget</th>\n",
              "    </tr>\n",
              "  </thead>\n",
              "  <tbody>\n",
              "    <tr>\n",
              "      <th>0</th>\n",
              "      <td>1</td>\n",
              "      <td>1</td>\n",
              "      <td>1</td>\n",
              "    </tr>\n",
              "    <tr>\n",
              "      <th>1</th>\n",
              "      <td>2</td>\n",
              "      <td>2</td>\n",
              "      <td>10</td>\n",
              "    </tr>\n",
              "    <tr>\n",
              "      <th>2</th>\n",
              "      <td>3</td>\n",
              "      <td>1</td>\n",
              "      <td>1</td>\n",
              "    </tr>\n",
              "    <tr>\n",
              "      <th>3</th>\n",
              "      <td>4</td>\n",
              "      <td>3</td>\n",
              "      <td>8</td>\n",
              "    </tr>\n",
              "    <tr>\n",
              "      <th>4</th>\n",
              "      <td>5</td>\n",
              "      <td>2</td>\n",
              "      <td>10</td>\n",
              "    </tr>\n",
              "  </tbody>\n",
              "</table>\n",
              "</div>"
            ],
            "text/plain": [
              "   event  cost_code  remaining_budget\n",
              "0      1          1                 1\n",
              "1      2          2                10\n",
              "2      3          1                 1\n",
              "3      4          3                 8\n",
              "4      5          2                10"
            ]
          },
          "metadata": {
            "tags": []
          },
          "execution_count": 132
        }
      ]
    },
    {
      "cell_type": "code",
      "metadata": {
        "id": "1TXNaQsCWvI2",
        "colab_type": "code",
        "colab": {}
      },
      "source": [
        ""
      ],
      "execution_count": 0,
      "outputs": []
    }
  ]
}