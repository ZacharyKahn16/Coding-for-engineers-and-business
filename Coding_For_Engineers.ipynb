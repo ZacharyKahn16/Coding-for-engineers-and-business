{
  "nbformat": 4,
  "nbformat_minor": 0,
  "metadata": {
    "kernelspec": {
      "display_name": "Python 3",
      "language": "python",
      "name": "python3"
    },
    "language_info": {
      "codemirror_mode": {
        "name": "ipython",
        "version": 2
      },
      "file_extension": ".py",
      "mimetype": "text/x-python",
      "name": "python",
      "nbconvert_exporter": "python",
      "pygments_lexer": "ipython2",
      "version": "2.7.17"
    },
    "colab": {
      "name": "Coding For Engineers.ipynb",
      "provenance": [],
      "collapsed_sections": [],
      "toc_visible": true,
      "include_colab_link": true
    }
  },
  "cells": [
    {
      "cell_type": "markdown",
      "metadata": {
        "id": "view-in-github",
        "colab_type": "text"
      },
      "source": [
        "<a href=\"https://colab.research.google.com/github/ZacharyKahn16/Coding-for-engineers-and-business/blob/master/Coding_For_Engineers.ipynb\" target=\"_parent\"><img src=\"https://colab.research.google.com/assets/colab-badge.svg\" alt=\"Open In Colab\"/></a>"
      ]
    },
    {
      "cell_type": "markdown",
      "metadata": {
        "id": "6S1rbR5IT66G",
        "colab_type": "text"
      },
      "source": [
        "# Coding For Engineers\n",
        "\n",
        "Coding, it is a wonderful thing. In engineering we are taught how to solve problems, however most problems nowadays require a computer to be able to solve them **quickly and at scale**. This is where coding comes into play. While there are lots of things that could be considered, I have tried to condense it down into the areas I see as *most relevent for engineers*.\n",
        "\n",
        "Specifically, I have made this based on my own experience which is Computer Science and Chemical Engineering. The skills presented here are useful for anyone looking to:\n",
        "- **Automate** their work\n",
        "- Perform **numerical analysis** (like integration or differentiation)\n",
        "- Do **data analysis** (and from there some machine learning or other neat stuff)\n",
        "\n",
        "I also briefly mention what the cloud is and why it might be useful to start looking in to it with your company (hint: you are going to need it if you want to work with a lot of data).\n",
        "\n",
        "This is **not** a full course or tutorial, I am merely trying to show you the basics and will point you to the best resources I know and have used. Also, I am planning to make a course that goes into detail and larger examples about everything mentioned here. If you are interested in it, **please let me know** as I am always eager to find out if I am building something people actually want. You can [contact me](https://ca.linkedin.com/in/zachary-kahn) through LinkedIn."
      ]
    },
    {
      "cell_type": "markdown",
      "metadata": {
        "id": "vD2tkzgoT66J",
        "colab_type": "text"
      },
      "source": [
        "### Blurb about me\n",
        "Feel free to skip this, just wanted to give you a bit of background on me in case you are wondering why should listen to anything I say.\n",
        "\n",
        "My name is Zachary Kahn and I am the co-founder of [Compound Confidence](https://compoundconfidence.com/). I have a passion for helping people learn the skills and strategies that allow them to achieve anything they want while doing what they love. I interned at **Google** twice, and am starting there full time as a Software Engineer later this year. I graduated from university with a combined degree in Chemical Engineering and Computer Science and now focus on building great education and technology products."
      ]
    },
    {
      "cell_type": "markdown",
      "metadata": {
        "id": "cEQnvn5pT66J",
        "colab_type": "text"
      },
      "source": [
        "## Programming languages you will need\n",
        "Again, **don't be overwhelmed by the following list**. You will build up this knowledge over time. You don't need to master each one before moving onto the next one. Basically, learn the minimum amount needed to do whatever you need to, then start the next one. Building software to solve a real life problem is where you learn the most. Things will come together as you begin building, experimenting, getting frustrated, make break throughs, and repeat the whole process.\n",
        "\n",
        "Programming languages useful to engineers\n",
        "1. Python (most versatile in my opinion)\n",
        "2. SQL (good for manipulating large datasets)\n",
        "3. Bash (good for automating some things)"
      ]
    },
    {
      "cell_type": "markdown",
      "metadata": {
        "id": "kYTUXx9yT66K",
        "colab_type": "text"
      },
      "source": [
        "## Assumptions\n",
        "As engineers, am I assuming you have taken at least one programming course where you learned the basic programming constructs. These include:\n",
        "- loops\n",
        "- if statements\n",
        "- variables\n",
        "- objects\n",
        "- functions\n",
        "- arrays/lists\n",
        "- hopefully some other good stuff that rings a bell...\n",
        "\n",
        "There a few other useful features to know about, and I will be showing the Python notation for them next. Python is the language we will be using in this tutorial, but I will mention a few others. This tutorial is actually all being done through a [Jupyter Notebook](https://jupyter.org/)."
      ]
    },
    {
      "cell_type": "markdown",
      "metadata": {
        "id": "XIYDUolZT66L",
        "colab_type": "text"
      },
      "source": [
        "## Time to dive in\n",
        "Alright, with all that covered let's get into the material!\n",
        "\n",
        "First, we will cover same *very* basic syntax for Python. For SQL and Bash I will give some resources at the end of the notebook.\n",
        "\n",
        "Then we will dive into a few examples that show how you can use these languages for:\n",
        "- Automation\n",
        "- Numerical analysis\n",
        "- Data analysis and modelling"
      ]
    },
    {
      "cell_type": "markdown",
      "metadata": {
        "id": "B3k1UK25T66L",
        "colab_type": "text"
      },
      "source": [
        "### Python Syntax basics"
      ]
    },
    {
      "cell_type": "code",
      "metadata": {
        "id": "Y_SfpdKLT66M",
        "colab_type": "code",
        "colab": {
          "base_uri": "https://localhost:8080/",
          "height": 34
        },
        "outputId": "26f98408-f3eb-4780-a474-0c63dd924d98"
      },
      "source": [
        "## List\n",
        "myrange = range(10,20) # creates list from [10..19]\n",
        "print(myrange)"
      ],
      "execution_count": 1,
      "outputs": [
        {
          "output_type": "stream",
          "text": [
            "range(10, 20)\n"
          ],
          "name": "stdout"
        }
      ]
    },
    {
      "cell_type": "code",
      "metadata": {
        "id": "PzcpJAAgT66R",
        "colab_type": "code",
        "colab": {
          "base_uri": "https://localhost:8080/",
          "height": 391
        },
        "outputId": "04975f86-2728-4fca-d739-fe30d98accda"
      },
      "source": [
        "## Loops\n",
        "\n",
        "# For Loop\n",
        "print('For Loop')\n",
        "for ele in myrange:\n",
        "    print(ele)\n",
        "\n",
        "# While Loop\n",
        "print('While Loop')\n",
        "range_len = len(myrange) # number of elements in myrange list\n",
        "i = 0\n",
        "while i < range_len:\n",
        "    print(myrange[i])\n",
        "    i += 1"
      ],
      "execution_count": 2,
      "outputs": [
        {
          "output_type": "stream",
          "text": [
            "For Loop\n",
            "10\n",
            "11\n",
            "12\n",
            "13\n",
            "14\n",
            "15\n",
            "16\n",
            "17\n",
            "18\n",
            "19\n",
            "While Loop\n",
            "10\n",
            "11\n",
            "12\n",
            "13\n",
            "14\n",
            "15\n",
            "16\n",
            "17\n",
            "18\n",
            "19\n"
          ],
          "name": "stdout"
        }
      ]
    },
    {
      "cell_type": "code",
      "metadata": {
        "id": "od8_l3IIT66T",
        "colab_type": "code",
        "colab": {
          "base_uri": "https://localhost:8080/",
          "height": 51
        },
        "outputId": "d572a283-6931-4979-eaa0-981683e66c0f"
      },
      "source": [
        "# If, else, elif statements\n",
        "\n",
        "# Given a number as an output, let's treat it differently depending on the value.\n",
        "my_input = input('What is your favorite number?')\n",
        "\n",
        "# Convert from string to int\n",
        "my_input = int(my_input)\n",
        "\n",
        "if my_input < 10:\n",
        "    print('Small fav number')\n",
        "elif my_input < 100:\n",
        "    print('Medium fav number')\n",
        "else:\n",
        "    print('Large fav number')"
      ],
      "execution_count": 4,
      "outputs": [
        {
          "output_type": "stream",
          "text": [
            "What is your favorite number?5\n",
            "Small fav number\n"
          ],
          "name": "stdout"
        }
      ]
    },
    {
      "cell_type": "code",
      "metadata": {
        "id": "CeY2lzcFT66W",
        "colab_type": "code",
        "colab": {
          "base_uri": "https://localhost:8080/",
          "height": 34
        },
        "outputId": "55414f8f-41cb-4eae-e535-39d9d888432b"
      },
      "source": [
        "# Functions\n",
        "# This is nice for cleaning things up into nice chunks of code we can reuse.\n",
        "\n",
        "# Simple example, but hopefully illustrates the point and syntax.\n",
        "\n",
        "#               arguments to function go in between the brackets, and you can have 0 or more of them!\n",
        "def sum_of_list(my_list): \n",
        "    return sum(my_list)\n",
        "\n",
        "print(sum_of_list(range(10)))"
      ],
      "execution_count": 5,
      "outputs": [
        {
          "output_type": "stream",
          "text": [
            "45\n"
          ],
          "name": "stdout"
        }
      ]
    },
    {
      "cell_type": "markdown",
      "metadata": {
        "id": "fw9MbxpcT66Z",
        "colab_type": "text"
      },
      "source": [
        "Hopefully that is enough to get you started, at the end of this notebook you can find a list of resources if you want to learn more about Python programming."
      ]
    },
    {
      "cell_type": "markdown",
      "metadata": {
        "id": "6VSB4HHTT66a",
        "colab_type": "text"
      },
      "source": [
        "## Automation \n",
        "There are various repeatable tasks engineers would love to be able to automate in their job. From my experience, these are some of the following:\n",
        "- updating spreadsheets\n",
        "- piping output of one spreadsheet into another\n",
        "- changing the value of a row or column slighly without having to manually change each entry\n",
        "- iterative simple calculations\n",
        "- generating a list that has some intial values useful for further calculations\n",
        "\n",
        "Let's see how a bit of code can help with some these issues."
      ]
    },
    {
      "cell_type": "markdown",
      "metadata": {
        "id": "6dUPX5kpT66a",
        "colab_type": "text"
      },
      "source": [
        "### Upating Spreadsheets\n",
        "Often you can use a macro for this, but depending on the task coding can help as well. Let's look at a scenario.\n",
        "\n",
        "#### Scenario\n",
        "Your spreadsheet has a list of events, each with a cost code, and a remaining budget (per cost code). You want to add expenses (reduce remaining budget) to multiple cost code codes, and you only want an update to happen if the cost is less than the remaining budget.\n",
        "\n",
        "You could go through manually and do this, but it could be tedious if you have tons of events and cost codes. Let's automate it! Later I'll show you how to read in a spreadsheet, but for now, I'll make one.\n",
        "\n",
        "To do this we'll need [pandas](https://pandas.pydata.org/docs/), a data analysis package. They have a nice way to import csvs, which is why I'm choosing to use it."
      ]
    },
    {
      "cell_type": "code",
      "metadata": {
        "id": "A6WVWTHYT66g",
        "colab_type": "code",
        "colab": {}
      },
      "source": [
        "# import the package\n",
        "import pandas as pd\n",
        "import numpy as np"
      ],
      "execution_count": 0,
      "outputs": []
    },
    {
      "cell_type": "code",
      "metadata": {
        "id": "A5RdSXKDT66m",
        "colab_type": "code",
        "colab": {
          "base_uri": "https://localhost:8080/",
          "height": 204
        },
        "outputId": "e6bbc948-6f36-4ab8-f5c5-850e4328d309"
      },
      "source": [
        "# Generate spreadsheet, we will cover how to read in a spreadsheet later\n",
        "budgets = pd.DataFrame(data={'event': [1,2,3,4,5], 'cost_code': [1,2,1,3,2], 'remaining_budget':[5,10,5,8,10]})\n",
        "budgets.head()"
      ],
      "execution_count": 5,
      "outputs": [
        {
          "output_type": "execute_result",
          "data": {
            "text/html": [
              "<div>\n",
              "<style scoped>\n",
              "    .dataframe tbody tr th:only-of-type {\n",
              "        vertical-align: middle;\n",
              "    }\n",
              "\n",
              "    .dataframe tbody tr th {\n",
              "        vertical-align: top;\n",
              "    }\n",
              "\n",
              "    .dataframe thead th {\n",
              "        text-align: right;\n",
              "    }\n",
              "</style>\n",
              "<table border=\"1\" class=\"dataframe\">\n",
              "  <thead>\n",
              "    <tr style=\"text-align: right;\">\n",
              "      <th></th>\n",
              "      <th>event</th>\n",
              "      <th>cost_code</th>\n",
              "      <th>remaining_budget</th>\n",
              "    </tr>\n",
              "  </thead>\n",
              "  <tbody>\n",
              "    <tr>\n",
              "      <th>0</th>\n",
              "      <td>1</td>\n",
              "      <td>1</td>\n",
              "      <td>5</td>\n",
              "    </tr>\n",
              "    <tr>\n",
              "      <th>1</th>\n",
              "      <td>2</td>\n",
              "      <td>2</td>\n",
              "      <td>10</td>\n",
              "    </tr>\n",
              "    <tr>\n",
              "      <th>2</th>\n",
              "      <td>3</td>\n",
              "      <td>1</td>\n",
              "      <td>5</td>\n",
              "    </tr>\n",
              "    <tr>\n",
              "      <th>3</th>\n",
              "      <td>4</td>\n",
              "      <td>3</td>\n",
              "      <td>8</td>\n",
              "    </tr>\n",
              "    <tr>\n",
              "      <th>4</th>\n",
              "      <td>5</td>\n",
              "      <td>2</td>\n",
              "      <td>10</td>\n",
              "    </tr>\n",
              "  </tbody>\n",
              "</table>\n",
              "</div>"
            ],
            "text/plain": [
              "   event  cost_code  remaining_budget\n",
              "0      1          1                 5\n",
              "1      2          2                10\n",
              "2      3          1                 5\n",
              "3      4          3                 8\n",
              "4      5          2                10"
            ]
          },
          "metadata": {
            "tags": []
          },
          "execution_count": 5
        }
      ]
    },
    {
      "cell_type": "code",
      "metadata": {
        "id": "7mKNu8uCVK9t",
        "colab_type": "code",
        "colab": {}
      },
      "source": [
        "def update_budget(budget_sheet, withdraw_from_cost_code):\n",
        "  ''' Update the each cost code in budget sheet\n",
        "  \n",
        "    Args:\n",
        "      budget_sheet: Dataframe that represents budget spreadsheet.\n",
        "      withdraw_from_cost_code: dictionary, where key is cost code, value is\n",
        "        amount to subtract from cost code.\n",
        "    \n",
        "    Returns:\n",
        "      Updated budget if all costs valid (not higher than remaining budget),\n",
        "      otherwise returns original budget.\n",
        "  '''\n",
        "\n",
        "  # Create completely new copy of spreadsheet (this is ok assuming spreadsheet\n",
        "  # is not too large, like < 50 Mb).\n",
        "  updated_budget = budget_sheet.copy()\n",
        "\n",
        "  # Go through each item in dictionary, and make sure the cost does not\n",
        "  # exceed the remaining budget for the specific cost code.\n",
        "  for cost_code, new_cost in withdraw_from_cost_code.items():\n",
        "    # Filter out the data of interest\n",
        "    cost_code_filter = budget_sheet['cost_code'] == cost_code # return column that contains \n",
        "                                                              # True where this expression is True\n",
        "                                                              # False otherwise.\n",
        "    remaining_budget_filter = budget_sheet['remaining_budget'] >= new_cost # same thing here\n",
        "\n",
        "    # Get a subsetted version of the budget sheet.\n",
        "    tmp_budget = budget_sheet.where(cost_code_filter).dropna()\n",
        "\n",
        "    # For current cost code check all events have enough money.\n",
        "    if tmp_budget.shape[0] > 0: # Make sure cost code exists in spread sheet\n",
        "      orig_rows = tmp_budget.shape[0]\n",
        "      after_filter_rows = tmp_budget.where(remaining_budget_filter).dropna().shape[0]\n",
        "      if orig_rows != after_filter_rows:\n",
        "        print('The cost of {} for cost code {} exceeds remaining budget of at least one event.'.format(new_cost, cost_code))\n",
        "        print('Returning original budget')\n",
        "        return budget_sheet\n",
        "      \n",
        "      # Update the remaining budget\n",
        "      updated_budget['remaining_budget'] = np.where(\n",
        "          cost_code_filter & remaining_budget_filter, # When this condition is true\n",
        "          updated_budget['remaining_budget'] - new_cost, # Subtract new cost from remaining budget\n",
        "          updated_budget['remaining_budget']) # If condition is False, return original value\n",
        "\n",
        "    else: # Inputted non-existent cost cost\n",
        "      print('Cost code {} does not exist in budget.'.format(cost_code))\n",
        "      print('Returning original budget')\n",
        "      return budget_sheet\n",
        "\n",
        "  return updated_budget\n"
      ],
      "execution_count": 0,
      "outputs": []
    },
    {
      "cell_type": "code",
      "metadata": {
        "id": "ORjGNBrjWRJ4",
        "colab_type": "code",
        "colab": {
          "base_uri": "https://localhost:8080/",
          "height": 204
        },
        "outputId": "51be95f7-bbb2-435e-be45-ee0f9b9e4ce7"
      },
      "source": [
        "updated_budget = update_budget(budgets, {1: 2, 2: 8})\n",
        "updated_budget.head()"
      ],
      "execution_count": 9,
      "outputs": [
        {
          "output_type": "execute_result",
          "data": {
            "text/html": [
              "<div>\n",
              "<style scoped>\n",
              "    .dataframe tbody tr th:only-of-type {\n",
              "        vertical-align: middle;\n",
              "    }\n",
              "\n",
              "    .dataframe tbody tr th {\n",
              "        vertical-align: top;\n",
              "    }\n",
              "\n",
              "    .dataframe thead th {\n",
              "        text-align: right;\n",
              "    }\n",
              "</style>\n",
              "<table border=\"1\" class=\"dataframe\">\n",
              "  <thead>\n",
              "    <tr style=\"text-align: right;\">\n",
              "      <th></th>\n",
              "      <th>event</th>\n",
              "      <th>cost_code</th>\n",
              "      <th>remaining_budget</th>\n",
              "    </tr>\n",
              "  </thead>\n",
              "  <tbody>\n",
              "    <tr>\n",
              "      <th>0</th>\n",
              "      <td>1</td>\n",
              "      <td>1</td>\n",
              "      <td>3</td>\n",
              "    </tr>\n",
              "    <tr>\n",
              "      <th>1</th>\n",
              "      <td>2</td>\n",
              "      <td>2</td>\n",
              "      <td>2</td>\n",
              "    </tr>\n",
              "    <tr>\n",
              "      <th>2</th>\n",
              "      <td>3</td>\n",
              "      <td>1</td>\n",
              "      <td>3</td>\n",
              "    </tr>\n",
              "    <tr>\n",
              "      <th>3</th>\n",
              "      <td>4</td>\n",
              "      <td>3</td>\n",
              "      <td>8</td>\n",
              "    </tr>\n",
              "    <tr>\n",
              "      <th>4</th>\n",
              "      <td>5</td>\n",
              "      <td>2</td>\n",
              "      <td>2</td>\n",
              "    </tr>\n",
              "  </tbody>\n",
              "</table>\n",
              "</div>"
            ],
            "text/plain": [
              "   event  cost_code  remaining_budget\n",
              "0      1          1                 3\n",
              "1      2          2                 2\n",
              "2      3          1                 3\n",
              "3      4          3                 8\n",
              "4      5          2                 2"
            ]
          },
          "metadata": {
            "tags": []
          },
          "execution_count": 9
        }
      ]
    },
    {
      "cell_type": "markdown",
      "metadata": {
        "id": "_68zJzOyxxv7",
        "colab_type": "text"
      },
      "source": [
        "Now you can write this final spreadsheet to a csv and you have successfully updated all the budgets!"
      ]
    },
    {
      "cell_type": "code",
      "metadata": {
        "id": "ReBOhwgbx5DY",
        "colab_type": "code",
        "colab": {}
      },
      "source": [
        "updated_budget.to_csv('updated_budgets.csv')"
      ],
      "execution_count": 0,
      "outputs": []
    },
    {
      "cell_type": "code",
      "metadata": {
        "id": "5C1qd5dFyKwY",
        "colab_type": "code",
        "colab": {
          "base_uri": "https://localhost:8080/",
          "height": 34
        },
        "outputId": "a10d1a0a-0a11-4f8a-fe3f-1d3516fdda87"
      },
      "source": [
        "ord('A')"
      ],
      "execution_count": 15,
      "outputs": [
        {
          "output_type": "execute_result",
          "data": {
            "text/plain": [
              "65"
            ]
          },
          "metadata": {
            "tags": []
          },
          "execution_count": 15
        }
      ]
    },
    {
      "cell_type": "markdown",
      "metadata": {
        "id": "fs-XhGwnyMVs",
        "colab_type": "text"
      },
      "source": [
        "## Updating long list of column names\n",
        "For this example, suppose you have a spreadsheet and you need to change all the column names by added an _v1 to them. If you have let's say, 100 columns, this might feel tedious to do manually. Let's see how some code could automate it."
      ]
    },
    {
      "cell_type": "code",
      "metadata": {
        "id": "Ms1rqLYdy3zz",
        "colab_type": "code",
        "colab": {
          "base_uri": "https://localhost:8080/",
          "height": 131
        },
        "outputId": "b8bb440e-8391-4035-f5da-67d802c92960"
      },
      "source": [
        "# Original columns\n",
        "my_data = {}\n",
        "# For example, we'll have columns name A, B, ... , Z\n",
        "for i in range(26):\n",
        "  my_data[chr(65 + i)] = ['hello', i]\n",
        "\n",
        "# Turn this into spreadsheet like format\n",
        "data = pd.DataFrame(my_data)\n",
        "data.head()"
      ],
      "execution_count": 12,
      "outputs": [
        {
          "output_type": "execute_result",
          "data": {
            "text/html": [
              "<div>\n",
              "<style scoped>\n",
              "    .dataframe tbody tr th:only-of-type {\n",
              "        vertical-align: middle;\n",
              "    }\n",
              "\n",
              "    .dataframe tbody tr th {\n",
              "        vertical-align: top;\n",
              "    }\n",
              "\n",
              "    .dataframe thead th {\n",
              "        text-align: right;\n",
              "    }\n",
              "</style>\n",
              "<table border=\"1\" class=\"dataframe\">\n",
              "  <thead>\n",
              "    <tr style=\"text-align: right;\">\n",
              "      <th></th>\n",
              "      <th>A</th>\n",
              "      <th>B</th>\n",
              "      <th>C</th>\n",
              "      <th>D</th>\n",
              "      <th>E</th>\n",
              "      <th>F</th>\n",
              "      <th>G</th>\n",
              "      <th>H</th>\n",
              "      <th>I</th>\n",
              "      <th>J</th>\n",
              "      <th>K</th>\n",
              "      <th>L</th>\n",
              "      <th>M</th>\n",
              "      <th>N</th>\n",
              "      <th>O</th>\n",
              "      <th>P</th>\n",
              "      <th>Q</th>\n",
              "      <th>R</th>\n",
              "      <th>S</th>\n",
              "      <th>T</th>\n",
              "      <th>U</th>\n",
              "      <th>V</th>\n",
              "      <th>W</th>\n",
              "      <th>X</th>\n",
              "      <th>Y</th>\n",
              "      <th>Z</th>\n",
              "    </tr>\n",
              "  </thead>\n",
              "  <tbody>\n",
              "    <tr>\n",
              "      <th>0</th>\n",
              "      <td>hello</td>\n",
              "      <td>hello</td>\n",
              "      <td>hello</td>\n",
              "      <td>hello</td>\n",
              "      <td>hello</td>\n",
              "      <td>hello</td>\n",
              "      <td>hello</td>\n",
              "      <td>hello</td>\n",
              "      <td>hello</td>\n",
              "      <td>hello</td>\n",
              "      <td>hello</td>\n",
              "      <td>hello</td>\n",
              "      <td>hello</td>\n",
              "      <td>hello</td>\n",
              "      <td>hello</td>\n",
              "      <td>hello</td>\n",
              "      <td>hello</td>\n",
              "      <td>hello</td>\n",
              "      <td>hello</td>\n",
              "      <td>hello</td>\n",
              "      <td>hello</td>\n",
              "      <td>hello</td>\n",
              "      <td>hello</td>\n",
              "      <td>hello</td>\n",
              "      <td>hello</td>\n",
              "      <td>hello</td>\n",
              "    </tr>\n",
              "    <tr>\n",
              "      <th>1</th>\n",
              "      <td>0</td>\n",
              "      <td>1</td>\n",
              "      <td>2</td>\n",
              "      <td>3</td>\n",
              "      <td>4</td>\n",
              "      <td>5</td>\n",
              "      <td>6</td>\n",
              "      <td>7</td>\n",
              "      <td>8</td>\n",
              "      <td>9</td>\n",
              "      <td>10</td>\n",
              "      <td>11</td>\n",
              "      <td>12</td>\n",
              "      <td>13</td>\n",
              "      <td>14</td>\n",
              "      <td>15</td>\n",
              "      <td>16</td>\n",
              "      <td>17</td>\n",
              "      <td>18</td>\n",
              "      <td>19</td>\n",
              "      <td>20</td>\n",
              "      <td>21</td>\n",
              "      <td>22</td>\n",
              "      <td>23</td>\n",
              "      <td>24</td>\n",
              "      <td>25</td>\n",
              "    </tr>\n",
              "  </tbody>\n",
              "</table>\n",
              "</div>"
            ],
            "text/plain": [
              "       A      B      C      D      E  ...      V      W      X      Y      Z\n",
              "0  hello  hello  hello  hello  hello  ...  hello  hello  hello  hello  hello\n",
              "1      0      1      2      3      4  ...     21     22     23     24     25\n",
              "\n",
              "[2 rows x 26 columns]"
            ]
          },
          "metadata": {
            "tags": []
          },
          "execution_count": 12
        }
      ]
    },
    {
      "cell_type": "code",
      "metadata": {
        "id": "R9V9cmRFEFfL",
        "colab_type": "code",
        "colab": {
          "base_uri": "https://localhost:8080/",
          "height": 199
        },
        "outputId": "46b50bc2-3880-4b55-fc6b-a7eb45463096"
      },
      "source": [
        "# Now let's change the columns to have _v1 appended\n",
        "cols = data.columns\n",
        "# Dictionary that maps old names to new names\n",
        "new_cols = {}\n",
        "for col in cols:\n",
        "  new_cols[col] = col + '_v1'\n",
        "\n",
        "print('New column mapping:')\n",
        "print(new_cols)\n",
        "print('')\n",
        "print('Updated column names:')\n",
        "data.rename(columns=new_cols, inplace=True)\n",
        "\n",
        "data.head()"
      ],
      "execution_count": 13,
      "outputs": [
        {
          "output_type": "stream",
          "text": [
            "New column mapping:\n",
            "{'A': 'A_v1', 'B': 'B_v1', 'C': 'C_v1', 'D': 'D_v1', 'E': 'E_v1', 'F': 'F_v1', 'G': 'G_v1', 'H': 'H_v1', 'I': 'I_v1', 'J': 'J_v1', 'K': 'K_v1', 'L': 'L_v1', 'M': 'M_v1', 'N': 'N_v1', 'O': 'O_v1', 'P': 'P_v1', 'Q': 'Q_v1', 'R': 'R_v1', 'S': 'S_v1', 'T': 'T_v1', 'U': 'U_v1', 'V': 'V_v1', 'W': 'W_v1', 'X': 'X_v1', 'Y': 'Y_v1', 'Z': 'Z_v1'}\n",
            "\n",
            "Updated column names:\n"
          ],
          "name": "stdout"
        },
        {
          "output_type": "execute_result",
          "data": {
            "text/html": [
              "<div>\n",
              "<style scoped>\n",
              "    .dataframe tbody tr th:only-of-type {\n",
              "        vertical-align: middle;\n",
              "    }\n",
              "\n",
              "    .dataframe tbody tr th {\n",
              "        vertical-align: top;\n",
              "    }\n",
              "\n",
              "    .dataframe thead th {\n",
              "        text-align: right;\n",
              "    }\n",
              "</style>\n",
              "<table border=\"1\" class=\"dataframe\">\n",
              "  <thead>\n",
              "    <tr style=\"text-align: right;\">\n",
              "      <th></th>\n",
              "      <th>A_v1</th>\n",
              "      <th>B_v1</th>\n",
              "      <th>C_v1</th>\n",
              "      <th>D_v1</th>\n",
              "      <th>E_v1</th>\n",
              "      <th>F_v1</th>\n",
              "      <th>G_v1</th>\n",
              "      <th>H_v1</th>\n",
              "      <th>I_v1</th>\n",
              "      <th>J_v1</th>\n",
              "      <th>K_v1</th>\n",
              "      <th>L_v1</th>\n",
              "      <th>M_v1</th>\n",
              "      <th>N_v1</th>\n",
              "      <th>O_v1</th>\n",
              "      <th>P_v1</th>\n",
              "      <th>Q_v1</th>\n",
              "      <th>R_v1</th>\n",
              "      <th>S_v1</th>\n",
              "      <th>T_v1</th>\n",
              "      <th>U_v1</th>\n",
              "      <th>V_v1</th>\n",
              "      <th>W_v1</th>\n",
              "      <th>X_v1</th>\n",
              "      <th>Y_v1</th>\n",
              "      <th>Z_v1</th>\n",
              "    </tr>\n",
              "  </thead>\n",
              "  <tbody>\n",
              "    <tr>\n",
              "      <th>0</th>\n",
              "      <td>hello</td>\n",
              "      <td>hello</td>\n",
              "      <td>hello</td>\n",
              "      <td>hello</td>\n",
              "      <td>hello</td>\n",
              "      <td>hello</td>\n",
              "      <td>hello</td>\n",
              "      <td>hello</td>\n",
              "      <td>hello</td>\n",
              "      <td>hello</td>\n",
              "      <td>hello</td>\n",
              "      <td>hello</td>\n",
              "      <td>hello</td>\n",
              "      <td>hello</td>\n",
              "      <td>hello</td>\n",
              "      <td>hello</td>\n",
              "      <td>hello</td>\n",
              "      <td>hello</td>\n",
              "      <td>hello</td>\n",
              "      <td>hello</td>\n",
              "      <td>hello</td>\n",
              "      <td>hello</td>\n",
              "      <td>hello</td>\n",
              "      <td>hello</td>\n",
              "      <td>hello</td>\n",
              "      <td>hello</td>\n",
              "    </tr>\n",
              "    <tr>\n",
              "      <th>1</th>\n",
              "      <td>0</td>\n",
              "      <td>1</td>\n",
              "      <td>2</td>\n",
              "      <td>3</td>\n",
              "      <td>4</td>\n",
              "      <td>5</td>\n",
              "      <td>6</td>\n",
              "      <td>7</td>\n",
              "      <td>8</td>\n",
              "      <td>9</td>\n",
              "      <td>10</td>\n",
              "      <td>11</td>\n",
              "      <td>12</td>\n",
              "      <td>13</td>\n",
              "      <td>14</td>\n",
              "      <td>15</td>\n",
              "      <td>16</td>\n",
              "      <td>17</td>\n",
              "      <td>18</td>\n",
              "      <td>19</td>\n",
              "      <td>20</td>\n",
              "      <td>21</td>\n",
              "      <td>22</td>\n",
              "      <td>23</td>\n",
              "      <td>24</td>\n",
              "      <td>25</td>\n",
              "    </tr>\n",
              "  </tbody>\n",
              "</table>\n",
              "</div>"
            ],
            "text/plain": [
              "    A_v1   B_v1   C_v1   D_v1   E_v1  ...   V_v1   W_v1   X_v1   Y_v1   Z_v1\n",
              "0  hello  hello  hello  hello  hello  ...  hello  hello  hello  hello  hello\n",
              "1      0      1      2      3      4  ...     21     22     23     24     25\n",
              "\n",
              "[2 rows x 26 columns]"
            ]
          },
          "metadata": {
            "tags": []
          },
          "execution_count": 13
        }
      ]
    },
    {
      "cell_type": "markdown",
      "metadata": {
        "id": "tJYdpeTuNQ3i",
        "colab_type": "text"
      },
      "source": [
        "Alright, so that sums up two examples of how you can use Python to automate some tasks. There are plenty of other possibilites and I encourage you to check try them out for yourself!"
      ]
    },
    {
      "cell_type": "markdown",
      "metadata": {
        "id": "s2cjkPIBNb0r",
        "colab_type": "text"
      },
      "source": [
        "# Numerical Analysis\n",
        "Numerical analysis is a really powerful tool and something engineers often need to perform. While doing 'back of the envelope' calculations can be a good start, you can often perform much better analysis using numerical analysis. There are many tools and packages available that can made things really simple (compared to doing it by hand).\n",
        "\n",
        "In this section, we will show an example of how to:\n",
        "- Integrate a function\n",
        "- Find the minimum of a function\n",
        "\n",
        "We will use [scipy](https://www.scipy.org/) to do this."
      ]
    },
    {
      "cell_type": "code",
      "metadata": {
        "id": "JGAG4UhbORSL",
        "colab_type": "code",
        "colab": {
          "base_uri": "https://localhost:8080/",
          "height": 34
        },
        "outputId": "935eb14a-0ea5-4641-fbf5-2db99c1d0cd0"
      },
      "source": [
        "# Integrate a function\n",
        "from scipy import integrate\n",
        "\n",
        "def func_to_integrate(x):\n",
        "  return x**2 + 5\n",
        "\n",
        "\n",
        "print(integrate.quad(func_to_integrate, 0 , 5))"
      ],
      "execution_count": 14,
      "outputs": [
        {
          "output_type": "stream",
          "text": [
            "(66.66666666666669, 7.401486830834379e-13)\n"
          ],
          "name": "stdout"
        }
      ]
    },
    {
      "cell_type": "code",
      "metadata": {
        "id": "BrYwBBVfCvVb",
        "colab_type": "code",
        "colab": {
          "base_uri": "https://localhost:8080/",
          "height": 34
        },
        "outputId": "0e918f84-aa96-44f4-da5f-5d018984b339"
      },
      "source": [
        "# Find minimum of function\n",
        "from scipy.optimize import minimize_scalar\n",
        "result = minimize_scalar(func_to_integrate)\n",
        "\n",
        "print(result.x)"
      ],
      "execution_count": 15,
      "outputs": [
        {
          "output_type": "stream",
          "text": [
            "1.147310308261937e-08\n"
          ],
          "name": "stdout"
        }
      ]
    },
    {
      "cell_type": "markdown",
      "metadata": {
        "id": "Mh3hzxrIEvE2",
        "colab_type": "text"
      },
      "source": [
        "That covers a very basic introduction to some of the numerical analysis you can do with scipy. You can even solve ODEs and other more complex functions. Definitely check out the documentation because you will be amazed with what you can solve!"
      ]
    },
    {
      "cell_type": "markdown",
      "metadata": {
        "id": "st0_twOQFgd1",
        "colab_type": "text"
      },
      "source": [
        "# Data Analysis and Modelling\n",
        "\n",
        "This is arguably one of the most useful parts of Python for someone in engineering or business. Being able to analyze data and build models is a very useful skill. Entire courses are dedicated to this topic, so my goal is to show you:\n",
        "- How to import data from a spreadsheet\n",
        "- How quickly you can build certain models\n",
        "- How you can use these models to make predictions\n",
        "\n",
        "We are going to use **Tensorflow to build a simple 4 layer neural network** to try and estimate the value of a house based on various input features. Neural networks are proving to be quite good at analyzing large amounts of data. If you want to get more serious about deep learning there are lots of resources, but I recommend checking out the [Deep Learning Specialization](https://www.coursera.org/specializations/deep-learning)."
      ]
    },
    {
      "cell_type": "code",
      "metadata": {
        "id": "xea6_KLccHES",
        "colab_type": "code",
        "colab": {}
      },
      "source": [
        "# Import all modules needed\n",
        "from sklearn import preprocessing\n",
        "from tensorflow import keras\n",
        "from tensorflow.keras import layers\n",
        "import tensorflow as tf\n",
        "import numpy as np\n",
        "import pandas as pd"
      ],
      "execution_count": 0,
      "outputs": []
    },
    {
      "cell_type": "code",
      "metadata": {
        "id": "jIBBj_JPGjpH",
        "colab_type": "code",
        "colab": {
          "base_uri": "https://localhost:8080/",
          "height": 224
        },
        "outputId": "00f1e9e3-6c86-4eb3-9940-8dd0a787f281"
      },
      "source": [
        "# Import data from spreadsheet\n",
        "# We'll use pandas again here\n",
        "training_data = pd.read_csv('/content/sample_data/california_housing_train.csv')\n",
        "training_data.head() \n",
        "test_data = pd.read_csv('/content/sample_data/california_housing_test.csv')\n",
        "test_data.head() "
      ],
      "execution_count": 13,
      "outputs": [
        {
          "output_type": "execute_result",
          "data": {
            "text/html": [
              "<div>\n",
              "<style scoped>\n",
              "    .dataframe tbody tr th:only-of-type {\n",
              "        vertical-align: middle;\n",
              "    }\n",
              "\n",
              "    .dataframe tbody tr th {\n",
              "        vertical-align: top;\n",
              "    }\n",
              "\n",
              "    .dataframe thead th {\n",
              "        text-align: right;\n",
              "    }\n",
              "</style>\n",
              "<table border=\"1\" class=\"dataframe\">\n",
              "  <thead>\n",
              "    <tr style=\"text-align: right;\">\n",
              "      <th></th>\n",
              "      <th>longitude</th>\n",
              "      <th>latitude</th>\n",
              "      <th>housing_median_age</th>\n",
              "      <th>total_rooms</th>\n",
              "      <th>total_bedrooms</th>\n",
              "      <th>population</th>\n",
              "      <th>households</th>\n",
              "      <th>median_income</th>\n",
              "      <th>median_house_value</th>\n",
              "    </tr>\n",
              "  </thead>\n",
              "  <tbody>\n",
              "    <tr>\n",
              "      <th>0</th>\n",
              "      <td>-122.05</td>\n",
              "      <td>37.37</td>\n",
              "      <td>27.0</td>\n",
              "      <td>3885.0</td>\n",
              "      <td>661.0</td>\n",
              "      <td>1537.0</td>\n",
              "      <td>606.0</td>\n",
              "      <td>6.6085</td>\n",
              "      <td>344700.0</td>\n",
              "    </tr>\n",
              "    <tr>\n",
              "      <th>1</th>\n",
              "      <td>-118.30</td>\n",
              "      <td>34.26</td>\n",
              "      <td>43.0</td>\n",
              "      <td>1510.0</td>\n",
              "      <td>310.0</td>\n",
              "      <td>809.0</td>\n",
              "      <td>277.0</td>\n",
              "      <td>3.5990</td>\n",
              "      <td>176500.0</td>\n",
              "    </tr>\n",
              "    <tr>\n",
              "      <th>2</th>\n",
              "      <td>-117.81</td>\n",
              "      <td>33.78</td>\n",
              "      <td>27.0</td>\n",
              "      <td>3589.0</td>\n",
              "      <td>507.0</td>\n",
              "      <td>1484.0</td>\n",
              "      <td>495.0</td>\n",
              "      <td>5.7934</td>\n",
              "      <td>270500.0</td>\n",
              "    </tr>\n",
              "    <tr>\n",
              "      <th>3</th>\n",
              "      <td>-118.36</td>\n",
              "      <td>33.82</td>\n",
              "      <td>28.0</td>\n",
              "      <td>67.0</td>\n",
              "      <td>15.0</td>\n",
              "      <td>49.0</td>\n",
              "      <td>11.0</td>\n",
              "      <td>6.1359</td>\n",
              "      <td>330000.0</td>\n",
              "    </tr>\n",
              "    <tr>\n",
              "      <th>4</th>\n",
              "      <td>-119.67</td>\n",
              "      <td>36.33</td>\n",
              "      <td>19.0</td>\n",
              "      <td>1241.0</td>\n",
              "      <td>244.0</td>\n",
              "      <td>850.0</td>\n",
              "      <td>237.0</td>\n",
              "      <td>2.9375</td>\n",
              "      <td>81700.0</td>\n",
              "    </tr>\n",
              "  </tbody>\n",
              "</table>\n",
              "</div>"
            ],
            "text/plain": [
              "   longitude  latitude  ...  median_income  median_house_value\n",
              "0    -122.05     37.37  ...         6.6085            344700.0\n",
              "1    -118.30     34.26  ...         3.5990            176500.0\n",
              "2    -117.81     33.78  ...         5.7934            270500.0\n",
              "3    -118.36     33.82  ...         6.1359            330000.0\n",
              "4    -119.67     36.33  ...         2.9375             81700.0\n",
              "\n",
              "[5 rows x 9 columns]"
            ]
          },
          "metadata": {
            "tags": []
          },
          "execution_count": 13
        }
      ]
    },
    {
      "cell_type": "code",
      "metadata": {
        "id": "9SqkLnPmzOF8",
        "colab_type": "code",
        "colab": {}
      },
      "source": [
        "def getXandY(df):\n",
        "  x = df.iloc[:,:-1]\n",
        "  y = df.iloc[:,-1:]\n",
        "  return (x, y)"
      ],
      "execution_count": 0,
      "outputs": []
    },
    {
      "cell_type": "code",
      "metadata": {
        "id": "8WYl80hbdww0",
        "colab_type": "code",
        "colab": {}
      },
      "source": [
        "# Split into x (input features) and y (output result)\n",
        "x_train, y_train = getXandY(training_data)\n",
        "x_test, y_test = getXandY(test_data)"
      ],
      "execution_count": 0,
      "outputs": []
    },
    {
      "cell_type": "code",
      "metadata": {
        "id": "rLNSvVMoz2AW",
        "colab_type": "code",
        "colab": {
          "base_uri": "https://localhost:8080/",
          "height": 204
        },
        "outputId": "b17643a7-c8ae-4cdd-e429-a9efeba0e036"
      },
      "source": [
        "# x_train.head()\n",
        "# y_train.head()\n",
        "# x_test.head()\n",
        "y_test.head()"
      ],
      "execution_count": 6,
      "outputs": [
        {
          "output_type": "execute_result",
          "data": {
            "text/html": [
              "<div>\n",
              "<style scoped>\n",
              "    .dataframe tbody tr th:only-of-type {\n",
              "        vertical-align: middle;\n",
              "    }\n",
              "\n",
              "    .dataframe tbody tr th {\n",
              "        vertical-align: top;\n",
              "    }\n",
              "\n",
              "    .dataframe thead th {\n",
              "        text-align: right;\n",
              "    }\n",
              "</style>\n",
              "<table border=\"1\" class=\"dataframe\">\n",
              "  <thead>\n",
              "    <tr style=\"text-align: right;\">\n",
              "      <th></th>\n",
              "      <th>median_house_value</th>\n",
              "    </tr>\n",
              "  </thead>\n",
              "  <tbody>\n",
              "    <tr>\n",
              "      <th>0</th>\n",
              "      <td>344700.0</td>\n",
              "    </tr>\n",
              "    <tr>\n",
              "      <th>1</th>\n",
              "      <td>176500.0</td>\n",
              "    </tr>\n",
              "    <tr>\n",
              "      <th>2</th>\n",
              "      <td>270500.0</td>\n",
              "    </tr>\n",
              "    <tr>\n",
              "      <th>3</th>\n",
              "      <td>330000.0</td>\n",
              "    </tr>\n",
              "    <tr>\n",
              "      <th>4</th>\n",
              "      <td>81700.0</td>\n",
              "    </tr>\n",
              "  </tbody>\n",
              "</table>\n",
              "</div>"
            ],
            "text/plain": [
              "   median_house_value\n",
              "0            344700.0\n",
              "1            176500.0\n",
              "2            270500.0\n",
              "3            330000.0\n",
              "4             81700.0"
            ]
          },
          "metadata": {
            "tags": []
          },
          "execution_count": 6
        }
      ]
    },
    {
      "cell_type": "code",
      "metadata": {
        "id": "SBXiqFp3HBe-",
        "colab_type": "code",
        "colab": {}
      },
      "source": [
        "# Build Neural Net Architecture\n",
        "inputs = keras.Input(shape=(x_train.shape[1],), name='inputs')\n",
        "x = layers.Dense(32, activation='relu', name='hl-1')(inputs)\n",
        "x = layers.Dense(32, activation='relu', name='hl-2')(x)\n",
        "x = layers.Dense(32, activation='relu', name='hl-3')(x)\n",
        "output = layers.Dense(1, name='output')(x)\n",
        "\n",
        "model = keras.Model(inputs=inputs, outputs=output, name='house-price-pred-model')\n",
        "\n"
      ],
      "execution_count": 0,
      "outputs": []
    },
    {
      "cell_type": "code",
      "metadata": {
        "id": "huHDkX6Mgxmy",
        "colab_type": "code",
        "colab": {
          "base_uri": "https://localhost:8080/",
          "height": 466
        },
        "outputId": "f38dcdaa-94de-414f-c542-dbdda7923617"
      },
      "source": [
        "# Print out model architecture\n",
        "keras.utils.plot_model(model, 'house_price_model.png')"
      ],
      "execution_count": 8,
      "outputs": [
        {
          "output_type": "execute_result",
          "data": {
            "image/png": "[encoded data removed]",
            "text/plain": [
              "<IPython.core.display.Image object>"
            ]
          },
          "metadata": {
            "tags": []
          },
          "execution_count": 8
        }
      ]
    },
    {
      "cell_type": "code",
      "metadata": {
        "id": "G3JAE6LpaJ9y",
        "colab_type": "code",
        "colab": {}
      },
      "source": [
        "# Build and train model\n",
        "model.compile(optimizer='adam',\n",
        "              loss = 'mse',\n",
        "              metrics= [keras.metrics.MeanSquaredError(),\n",
        "                        keras.metrics.MeanAbsolutePercentageError()])"
      ],
      "execution_count": 0,
      "outputs": []
    },
    {
      "cell_type": "code",
      "metadata": {
        "id": "v05QTxF5b_oS",
        "colab_type": "code",
        "colab": {
          "base_uri": "https://localhost:8080/",
          "height": 1000
        },
        "outputId": "30c575a4-2931-4612-fbae-249574159a5b"
      },
      "source": [
        "print('# Fit model on training data')\n",
        "history = model.fit(x=x_train, y=y_train, batch_size= 64, epochs= 150)\n",
        "# print('history dict:', history.history)"
      ],
      "execution_count": 10,
      "outputs": [
        {
          "output_type": "stream",
          "text": [
            "# Fit model on training data\n",
            "Epoch 1/150\n",
            "266/266 [==============================] - 0s 2ms/step - loss: 38094360576.0000 - mean_squared_error: 38094360576.0000 - mean_absolute_percentage_error: 71.6942\n",
            "Epoch 2/150\n",
            "266/266 [==============================] - 0s 2ms/step - loss: 26053447680.0000 - mean_squared_error: 26053447680.0000 - mean_absolute_percentage_error: 55.8342\n",
            "Epoch 3/150\n",
            "266/266 [==============================] - 0s 1ms/step - loss: 23187920896.0000 - mean_squared_error: 23187920896.0000 - mean_absolute_percentage_error: 53.7176\n",
            "Epoch 4/150\n",
            "266/266 [==============================] - 0s 2ms/step - loss: 17648775168.0000 - mean_squared_error: 17648775168.0000 - mean_absolute_percentage_error: 51.4268\n",
            "Epoch 5/150\n",
            "266/266 [==============================] - 0s 2ms/step - loss: 12199416832.0000 - mean_squared_error: 12199416832.0000 - mean_absolute_percentage_error: 54.5220\n",
            "Epoch 6/150\n",
            "266/266 [==============================] - 0s 1ms/step - loss: 11164520448.0000 - mean_squared_error: 11164520448.0000 - mean_absolute_percentage_error: 56.8959\n",
            "Epoch 7/150\n",
            "266/266 [==============================] - 0s 1ms/step - loss: 10919135232.0000 - mean_squared_error: 10919135232.0000 - mean_absolute_percentage_error: 56.7040\n",
            "Epoch 8/150\n",
            "266/266 [==============================] - 0s 2ms/step - loss: 10725003264.0000 - mean_squared_error: 10725003264.0000 - mean_absolute_percentage_error: 56.3250\n",
            "Epoch 9/150\n",
            "266/266 [==============================] - 0s 2ms/step - loss: 10537381888.0000 - mean_squared_error: 10537381888.0000 - mean_absolute_percentage_error: 55.9983\n",
            "Epoch 10/150\n",
            "266/266 [==============================] - 0s 2ms/step - loss: 10354184192.0000 - mean_squared_error: 10354184192.0000 - mean_absolute_percentage_error: 55.3868\n",
            "Epoch 11/150\n",
            "266/266 [==============================] - 0s 1ms/step - loss: 10162242560.0000 - mean_squared_error: 10162242560.0000 - mean_absolute_percentage_error: 54.8956\n",
            "Epoch 12/150\n",
            "266/266 [==============================] - 0s 2ms/step - loss: 9966742528.0000 - mean_squared_error: 9966742528.0000 - mean_absolute_percentage_error: 54.2815\n",
            "Epoch 13/150\n",
            "266/266 [==============================] - 0s 2ms/step - loss: 9811745792.0000 - mean_squared_error: 9811745792.0000 - mean_absolute_percentage_error: 53.9307\n",
            "Epoch 14/150\n",
            "266/266 [==============================] - 0s 2ms/step - loss: 9605157888.0000 - mean_squared_error: 9605157888.0000 - mean_absolute_percentage_error: 53.1898\n",
            "Epoch 15/150\n",
            "266/266 [==============================] - 0s 2ms/step - loss: 9379113984.0000 - mean_squared_error: 9379113984.0000 - mean_absolute_percentage_error: 52.5255\n",
            "Epoch 16/150\n",
            "266/266 [==============================] - 0s 2ms/step - loss: 9160673280.0000 - mean_squared_error: 9160673280.0000 - mean_absolute_percentage_error: 51.9040\n",
            "Epoch 17/150\n",
            "266/266 [==============================] - 0s 2ms/step - loss: 8952065024.0000 - mean_squared_error: 8952065024.0000 - mean_absolute_percentage_error: 51.2569\n",
            "Epoch 18/150\n",
            "266/266 [==============================] - 0s 1ms/step - loss: 8789663744.0000 - mean_squared_error: 8789663744.0000 - mean_absolute_percentage_error: 50.7076\n",
            "Epoch 19/150\n",
            "266/266 [==============================] - 0s 2ms/step - loss: 8571895296.0000 - mean_squared_error: 8571895296.0000 - mean_absolute_percentage_error: 49.6586\n",
            "Epoch 20/150\n",
            "266/266 [==============================] - 0s 2ms/step - loss: 8373679104.0000 - mean_squared_error: 8373679104.0000 - mean_absolute_percentage_error: 49.1508\n",
            "Epoch 21/150\n",
            "266/266 [==============================] - 0s 2ms/step - loss: 8213062144.0000 - mean_squared_error: 8213062144.0000 - mean_absolute_percentage_error: 48.3384\n",
            "Epoch 22/150\n",
            "266/266 [==============================] - 0s 2ms/step - loss: 8033019904.0000 - mean_squared_error: 8033019904.0000 - mean_absolute_percentage_error: 47.5645\n",
            "Epoch 23/150\n",
            "266/266 [==============================] - 0s 1ms/step - loss: 7841472512.0000 - mean_squared_error: 7841472512.0000 - mean_absolute_percentage_error: 46.7589\n",
            "Epoch 24/150\n",
            "266/266 [==============================] - 0s 1ms/step - loss: 7712516096.0000 - mean_squared_error: 7712516096.0000 - mean_absolute_percentage_error: 46.1447\n",
            "Epoch 25/150\n",
            "266/266 [==============================] - 0s 1ms/step - loss: 7547799040.0000 - mean_squared_error: 7547799040.0000 - mean_absolute_percentage_error: 45.3181\n",
            "Epoch 26/150\n",
            "266/266 [==============================] - 0s 2ms/step - loss: 7403644416.0000 - mean_squared_error: 7403644416.0000 - mean_absolute_percentage_error: 44.5852\n",
            "Epoch 27/150\n",
            "266/266 [==============================] - 0s 2ms/step - loss: 7340155904.0000 - mean_squared_error: 7340155904.0000 - mean_absolute_percentage_error: 44.1136\n",
            "Epoch 28/150\n",
            "266/266 [==============================] - 0s 1ms/step - loss: 7187472384.0000 - mean_squared_error: 7187472384.0000 - mean_absolute_percentage_error: 43.4299\n",
            "Epoch 29/150\n",
            "266/266 [==============================] - 0s 1ms/step - loss: 7073523712.0000 - mean_squared_error: 7073523712.0000 - mean_absolute_percentage_error: 42.8389\n",
            "Epoch 30/150\n",
            "266/266 [==============================] - 0s 1ms/step - loss: 6964935680.0000 - mean_squared_error: 6964935680.0000 - mean_absolute_percentage_error: 42.3709\n",
            "Epoch 31/150\n",
            "266/266 [==============================] - 0s 1ms/step - loss: 6908052480.0000 - mean_squared_error: 6908052480.0000 - mean_absolute_percentage_error: 41.8351\n",
            "Epoch 32/150\n",
            "266/266 [==============================] - 0s 1ms/step - loss: 6761973760.0000 - mean_squared_error: 6761973760.0000 - mean_absolute_percentage_error: 41.3564\n",
            "Epoch 33/150\n",
            "266/266 [==============================] - 0s 1ms/step - loss: 6697867264.0000 - mean_squared_error: 6697867264.0000 - mean_absolute_percentage_error: 40.7412\n",
            "Epoch 34/150\n",
            "266/266 [==============================] - 0s 2ms/step - loss: 6624103936.0000 - mean_squared_error: 6624103936.0000 - mean_absolute_percentage_error: 40.5582\n",
            "Epoch 35/150\n",
            "266/266 [==============================] - 0s 1ms/step - loss: 6537745408.0000 - mean_squared_error: 6537745408.0000 - mean_absolute_percentage_error: 40.0526\n",
            "Epoch 36/150\n",
            "266/266 [==============================] - 0s 1ms/step - loss: 6443662336.0000 - mean_squared_error: 6443662336.0000 - mean_absolute_percentage_error: 39.5712\n",
            "Epoch 37/150\n",
            "266/266 [==============================] - 0s 1ms/step - loss: 6390480896.0000 - mean_squared_error: 6390480896.0000 - mean_absolute_percentage_error: 39.3245\n",
            "Epoch 38/150\n",
            "266/266 [==============================] - 0s 1ms/step - loss: 6358471680.0000 - mean_squared_error: 6358471680.0000 - mean_absolute_percentage_error: 38.9901\n",
            "Epoch 39/150\n",
            "266/266 [==============================] - 0s 1ms/step - loss: 6223924736.0000 - mean_squared_error: 6223924736.0000 - mean_absolute_percentage_error: 38.5969\n",
            "Epoch 40/150\n",
            "266/266 [==============================] - 0s 1ms/step - loss: 6159163904.0000 - mean_squared_error: 6159163904.0000 - mean_absolute_percentage_error: 38.1829\n",
            "Epoch 41/150\n",
            "266/266 [==============================] - 0s 1ms/step - loss: 6080446976.0000 - mean_squared_error: 6080446976.0000 - mean_absolute_percentage_error: 37.7703\n",
            "Epoch 42/150\n",
            "266/266 [==============================] - 0s 2ms/step - loss: 6024740864.0000 - mean_squared_error: 6024740864.0000 - mean_absolute_percentage_error: 37.5021\n",
            "Epoch 43/150\n",
            "266/266 [==============================] - 0s 1ms/step - loss: 5976134656.0000 - mean_squared_error: 5976134656.0000 - mean_absolute_percentage_error: 37.1712\n",
            "Epoch 44/150\n",
            "266/266 [==============================] - 0s 1ms/step - loss: 5883581952.0000 - mean_squared_error: 5883581952.0000 - mean_absolute_percentage_error: 36.7597\n",
            "Epoch 45/150\n",
            "266/266 [==============================] - 0s 2ms/step - loss: 5842226176.0000 - mean_squared_error: 5842226176.0000 - mean_absolute_percentage_error: 36.4148\n",
            "Epoch 46/150\n",
            "266/266 [==============================] - 0s 1ms/step - loss: 5788603904.0000 - mean_squared_error: 5788603904.0000 - mean_absolute_percentage_error: 36.3098\n",
            "Epoch 47/150\n",
            "266/266 [==============================] - 0s 2ms/step - loss: 5709296128.0000 - mean_squared_error: 5709296128.0000 - mean_absolute_percentage_error: 35.9725\n",
            "Epoch 48/150\n",
            "266/266 [==============================] - 0s 1ms/step - loss: 5641201152.0000 - mean_squared_error: 5641201152.0000 - mean_absolute_percentage_error: 35.3912\n",
            "Epoch 49/150\n",
            "266/266 [==============================] - 0s 1ms/step - loss: 5619156992.0000 - mean_squared_error: 5619156992.0000 - mean_absolute_percentage_error: 35.2595\n",
            "Epoch 50/150\n",
            "266/266 [==============================] - 0s 2ms/step - loss: 5575555584.0000 - mean_squared_error: 5575555584.0000 - mean_absolute_percentage_error: 35.1719\n",
            "Epoch 51/150\n",
            "266/266 [==============================] - 0s 1ms/step - loss: 5556088832.0000 - mean_squared_error: 5556088832.0000 - mean_absolute_percentage_error: 34.8398\n",
            "Epoch 52/150\n",
            "266/266 [==============================] - 0s 1ms/step - loss: 5455405056.0000 - mean_squared_error: 5455405056.0000 - mean_absolute_percentage_error: 34.5204\n",
            "Epoch 53/150\n",
            "266/266 [==============================] - 0s 2ms/step - loss: 5482924032.0000 - mean_squared_error: 5482924032.0000 - mean_absolute_percentage_error: 34.5963\n",
            "Epoch 54/150\n",
            "266/266 [==============================] - 0s 1ms/step - loss: 5466881024.0000 - mean_squared_error: 5466881024.0000 - mean_absolute_percentage_error: 34.3624\n",
            "Epoch 55/150\n",
            "266/266 [==============================] - 0s 1ms/step - loss: 5381785088.0000 - mean_squared_error: 5381785088.0000 - mean_absolute_percentage_error: 33.8875\n",
            "Epoch 56/150\n",
            "266/266 [==============================] - 0s 1ms/step - loss: 5337968128.0000 - mean_squared_error: 5337968128.0000 - mean_absolute_percentage_error: 33.7702\n",
            "Epoch 57/150\n",
            "266/266 [==============================] - 0s 1ms/step - loss: 5335596544.0000 - mean_squared_error: 5335596544.0000 - mean_absolute_percentage_error: 33.6760\n",
            "Epoch 58/150\n",
            "266/266 [==============================] - 0s 2ms/step - loss: 5353390080.0000 - mean_squared_error: 5353390080.0000 - mean_absolute_percentage_error: 33.7984\n",
            "Epoch 59/150\n",
            "266/266 [==============================] - 0s 1ms/step - loss: 5305099776.0000 - mean_squared_error: 5305099776.0000 - mean_absolute_percentage_error: 33.6981\n",
            "Epoch 60/150\n",
            "266/266 [==============================] - 0s 2ms/step - loss: 5245677568.0000 - mean_squared_error: 5245677568.0000 - mean_absolute_percentage_error: 33.2222\n",
            "Epoch 61/150\n",
            "266/266 [==============================] - 0s 2ms/step - loss: 5181827072.0000 - mean_squared_error: 5181827072.0000 - mean_absolute_percentage_error: 32.8914\n",
            "Epoch 62/150\n",
            "266/266 [==============================] - 0s 1ms/step - loss: 5211737088.0000 - mean_squared_error: 5211737088.0000 - mean_absolute_percentage_error: 32.9430\n",
            "Epoch 63/150\n",
            "266/266 [==============================] - 0s 1ms/step - loss: 5171524096.0000 - mean_squared_error: 5171524096.0000 - mean_absolute_percentage_error: 32.6752\n",
            "Epoch 64/150\n",
            "266/266 [==============================] - 0s 1ms/step - loss: 5153776128.0000 - mean_squared_error: 5153776128.0000 - mean_absolute_percentage_error: 32.6870\n",
            "Epoch 65/150\n",
            "266/266 [==============================] - 0s 2ms/step - loss: 5161055744.0000 - mean_squared_error: 5161055744.0000 - mean_absolute_percentage_error: 32.6323\n",
            "Epoch 66/150\n",
            "266/266 [==============================] - 0s 1ms/step - loss: 5100416000.0000 - mean_squared_error: 5100416000.0000 - mean_absolute_percentage_error: 32.4425\n",
            "Epoch 67/150\n",
            "266/266 [==============================] - 0s 2ms/step - loss: 5104582144.0000 - mean_squared_error: 5104582144.0000 - mean_absolute_percentage_error: 32.2773\n",
            "Epoch 68/150\n",
            "266/266 [==============================] - 0s 1ms/step - loss: 5058122752.0000 - mean_squared_error: 5058122752.0000 - mean_absolute_percentage_error: 32.0706\n",
            "Epoch 69/150\n",
            "266/266 [==============================] - 0s 2ms/step - loss: 5059374592.0000 - mean_squared_error: 5059374592.0000 - mean_absolute_percentage_error: 32.0862\n",
            "Epoch 70/150\n",
            "266/266 [==============================] - 0s 1ms/step - loss: 5019693056.0000 - mean_squared_error: 5019693056.0000 - mean_absolute_percentage_error: 31.8953\n",
            "Epoch 71/150\n",
            "266/266 [==============================] - 0s 1ms/step - loss: 5026860032.0000 - mean_squared_error: 5026860032.0000 - mean_absolute_percentage_error: 31.8814\n",
            "Epoch 72/150\n",
            "266/266 [==============================] - 0s 1ms/step - loss: 5050658816.0000 - mean_squared_error: 5050658816.0000 - mean_absolute_percentage_error: 32.0084\n",
            "Epoch 73/150\n",
            "266/266 [==============================] - 0s 1ms/step - loss: 5076901888.0000 - mean_squared_error: 5076901888.0000 - mean_absolute_percentage_error: 32.0687\n",
            "Epoch 74/150\n",
            "266/266 [==============================] - 0s 1ms/step - loss: 4998623744.0000 - mean_squared_error: 4998623744.0000 - mean_absolute_percentage_error: 31.7962\n",
            "Epoch 75/150\n",
            "266/266 [==============================] - 0s 1ms/step - loss: 4958016512.0000 - mean_squared_error: 4958016512.0000 - mean_absolute_percentage_error: 31.5578\n",
            "Epoch 76/150\n",
            "266/266 [==============================] - 0s 1ms/step - loss: 5022390784.0000 - mean_squared_error: 5022390784.0000 - mean_absolute_percentage_error: 31.8894\n",
            "Epoch 77/150\n",
            "266/266 [==============================] - 0s 2ms/step - loss: 4988558336.0000 - mean_squared_error: 4988558336.0000 - mean_absolute_percentage_error: 31.7342\n",
            "Epoch 78/150\n",
            "266/266 [==============================] - 0s 2ms/step - loss: 4899740672.0000 - mean_squared_error: 4899740672.0000 - mean_absolute_percentage_error: 31.3207\n",
            "Epoch 79/150\n",
            "266/266 [==============================] - 0s 2ms/step - loss: 4867430912.0000 - mean_squared_error: 4867430912.0000 - mean_absolute_percentage_error: 31.2087\n",
            "Epoch 80/150\n",
            "266/266 [==============================] - 0s 1ms/step - loss: 4934115840.0000 - mean_squared_error: 4934115840.0000 - mean_absolute_percentage_error: 31.4491\n",
            "Epoch 81/150\n",
            "266/266 [==============================] - 0s 2ms/step - loss: 4903298048.0000 - mean_squared_error: 4903298048.0000 - mean_absolute_percentage_error: 31.4156\n",
            "Epoch 82/150\n",
            "266/266 [==============================] - 0s 1ms/step - loss: 4870332416.0000 - mean_squared_error: 4870332416.0000 - mean_absolute_percentage_error: 31.3211\n",
            "Epoch 83/150\n",
            "266/266 [==============================] - 0s 2ms/step - loss: 4913618944.0000 - mean_squared_error: 4913618944.0000 - mean_absolute_percentage_error: 31.4368\n",
            "Epoch 84/150\n",
            "266/266 [==============================] - 0s 1ms/step - loss: 4836108288.0000 - mean_squared_error: 4836108288.0000 - mean_absolute_percentage_error: 31.1682\n",
            "Epoch 85/150\n",
            "266/266 [==============================] - 0s 1ms/step - loss: 4818308096.0000 - mean_squared_error: 4818308096.0000 - mean_absolute_percentage_error: 31.0272\n",
            "Epoch 86/150\n",
            "266/266 [==============================] - 0s 1ms/step - loss: 4812390400.0000 - mean_squared_error: 4812390400.0000 - mean_absolute_percentage_error: 30.9936\n",
            "Epoch 87/150\n",
            "266/266 [==============================] - 0s 2ms/step - loss: 4818094080.0000 - mean_squared_error: 4818094080.0000 - mean_absolute_percentage_error: 31.0252\n",
            "Epoch 88/150\n",
            "266/266 [==============================] - 0s 1ms/step - loss: 4828263936.0000 - mean_squared_error: 4828263936.0000 - mean_absolute_percentage_error: 31.0626\n",
            "Epoch 89/150\n",
            "266/266 [==============================] - 0s 2ms/step - loss: 4852819456.0000 - mean_squared_error: 4852819456.0000 - mean_absolute_percentage_error: 31.2128\n",
            "Epoch 90/150\n",
            "266/266 [==============================] - 0s 2ms/step - loss: 4773500928.0000 - mean_squared_error: 4773500928.0000 - mean_absolute_percentage_error: 30.9216\n",
            "Epoch 91/150\n",
            "266/266 [==============================] - 0s 2ms/step - loss: 4764911104.0000 - mean_squared_error: 4764911104.0000 - mean_absolute_percentage_error: 30.7578\n",
            "Epoch 92/150\n",
            "266/266 [==============================] - 0s 2ms/step - loss: 4740552704.0000 - mean_squared_error: 4740552704.0000 - mean_absolute_percentage_error: 30.7384\n",
            "Epoch 93/150\n",
            "266/266 [==============================] - 0s 1ms/step - loss: 4726390272.0000 - mean_squared_error: 4726390272.0000 - mean_absolute_percentage_error: 30.5811\n",
            "Epoch 94/150\n",
            "266/266 [==============================] - 0s 2ms/step - loss: 4844948992.0000 - mean_squared_error: 4844948992.0000 - mean_absolute_percentage_error: 31.1699\n",
            "Epoch 95/150\n",
            "266/266 [==============================] - 0s 1ms/step - loss: 4714564608.0000 - mean_squared_error: 4714564608.0000 - mean_absolute_percentage_error: 30.5989\n",
            "Epoch 96/150\n",
            "266/266 [==============================] - 0s 1ms/step - loss: 4768079360.0000 - mean_squared_error: 4768079360.0000 - mean_absolute_percentage_error: 30.8092\n",
            "Epoch 97/150\n",
            "266/266 [==============================] - 0s 2ms/step - loss: 4759090176.0000 - mean_squared_error: 4759090176.0000 - mean_absolute_percentage_error: 30.6993\n",
            "Epoch 98/150\n",
            "266/266 [==============================] - 0s 1ms/step - loss: 4734026752.0000 - mean_squared_error: 4734026752.0000 - mean_absolute_percentage_error: 30.8185\n",
            "Epoch 99/150\n",
            "266/266 [==============================] - 0s 2ms/step - loss: 4749346304.0000 - mean_squared_error: 4749346304.0000 - mean_absolute_percentage_error: 30.7796\n",
            "Epoch 100/150\n",
            "266/266 [==============================] - 0s 1ms/step - loss: 4702591488.0000 - mean_squared_error: 4702591488.0000 - mean_absolute_percentage_error: 30.5892\n",
            "Epoch 101/150\n",
            "266/266 [==============================] - 0s 1ms/step - loss: 4710679040.0000 - mean_squared_error: 4710679040.0000 - mean_absolute_percentage_error: 30.6377\n",
            "Epoch 102/150\n",
            "266/266 [==============================] - 0s 1ms/step - loss: 4734835712.0000 - mean_squared_error: 4734835712.0000 - mean_absolute_percentage_error: 30.6769\n",
            "Epoch 103/150\n",
            "266/266 [==============================] - 0s 1ms/step - loss: 4668620288.0000 - mean_squared_error: 4668620288.0000 - mean_absolute_percentage_error: 30.5285\n",
            "Epoch 104/150\n",
            "266/266 [==============================] - 0s 2ms/step - loss: 4687133184.0000 - mean_squared_error: 4687133184.0000 - mean_absolute_percentage_error: 30.4802\n",
            "Epoch 105/150\n",
            "266/266 [==============================] - 0s 1ms/step - loss: 4691822080.0000 - mean_squared_error: 4691822080.0000 - mean_absolute_percentage_error: 30.4928\n",
            "Epoch 106/150\n",
            "266/266 [==============================] - 0s 1ms/step - loss: 4693481984.0000 - mean_squared_error: 4693481984.0000 - mean_absolute_percentage_error: 30.5333\n",
            "Epoch 107/150\n",
            "266/266 [==============================] - 0s 2ms/step - loss: 4673868800.0000 - mean_squared_error: 4673868800.0000 - mean_absolute_percentage_error: 30.4729\n",
            "Epoch 108/150\n",
            "266/266 [==============================] - 0s 2ms/step - loss: 4659385344.0000 - mean_squared_error: 4659385344.0000 - mean_absolute_percentage_error: 30.2626\n",
            "Epoch 109/150\n",
            "266/266 [==============================] - 0s 2ms/step - loss: 4685122560.0000 - mean_squared_error: 4685122560.0000 - mean_absolute_percentage_error: 30.5800\n",
            "Epoch 110/150\n",
            "266/266 [==============================] - 0s 2ms/step - loss: 4660569088.0000 - mean_squared_error: 4660569088.0000 - mean_absolute_percentage_error: 30.3743\n",
            "Epoch 111/150\n",
            "266/266 [==============================] - 0s 2ms/step - loss: 4663671296.0000 - mean_squared_error: 4663671296.0000 - mean_absolute_percentage_error: 30.5058\n",
            "Epoch 112/150\n",
            "266/266 [==============================] - 0s 2ms/step - loss: 4624184832.0000 - mean_squared_error: 4624184832.0000 - mean_absolute_percentage_error: 30.3075\n",
            "Epoch 113/150\n",
            "266/266 [==============================] - 0s 1ms/step - loss: 4624379904.0000 - mean_squared_error: 4624379904.0000 - mean_absolute_percentage_error: 30.2661\n",
            "Epoch 114/150\n",
            "266/266 [==============================] - 0s 2ms/step - loss: 4599757312.0000 - mean_squared_error: 4599757312.0000 - mean_absolute_percentage_error: 30.1686\n",
            "Epoch 115/150\n",
            "266/266 [==============================] - 0s 2ms/step - loss: 4625413632.0000 - mean_squared_error: 4625413632.0000 - mean_absolute_percentage_error: 30.3338\n",
            "Epoch 116/150\n",
            "266/266 [==============================] - 0s 1ms/step - loss: 4642272768.0000 - mean_squared_error: 4642272768.0000 - mean_absolute_percentage_error: 30.4074\n",
            "Epoch 117/150\n",
            "266/266 [==============================] - 0s 2ms/step - loss: 4625063424.0000 - mean_squared_error: 4625063424.0000 - mean_absolute_percentage_error: 30.3425\n",
            "Epoch 118/150\n",
            "266/266 [==============================] - 0s 1ms/step - loss: 4625916928.0000 - mean_squared_error: 4625916928.0000 - mean_absolute_percentage_error: 30.4492\n",
            "Epoch 119/150\n",
            "266/266 [==============================] - 0s 2ms/step - loss: 4591571968.0000 - mean_squared_error: 4591571968.0000 - mean_absolute_percentage_error: 30.1663\n",
            "Epoch 120/150\n",
            "266/266 [==============================] - 0s 2ms/step - loss: 4644702208.0000 - mean_squared_error: 4644702208.0000 - mean_absolute_percentage_error: 30.5578\n",
            "Epoch 121/150\n",
            "266/266 [==============================] - 0s 1ms/step - loss: 4612303360.0000 - mean_squared_error: 4612303360.0000 - mean_absolute_percentage_error: 30.1522\n",
            "Epoch 122/150\n",
            "266/266 [==============================] - 0s 1ms/step - loss: 4590754304.0000 - mean_squared_error: 4590754304.0000 - mean_absolute_percentage_error: 30.2130\n",
            "Epoch 123/150\n",
            "266/266 [==============================] - 0s 1ms/step - loss: 4613016064.0000 - mean_squared_error: 4613016064.0000 - mean_absolute_percentage_error: 30.3266\n",
            "Epoch 124/150\n",
            "266/266 [==============================] - 0s 2ms/step - loss: 4574393344.0000 - mean_squared_error: 4574393344.0000 - mean_absolute_percentage_error: 30.2063\n",
            "Epoch 125/150\n",
            "266/266 [==============================] - 0s 2ms/step - loss: 4568379392.0000 - mean_squared_error: 4568379392.0000 - mean_absolute_percentage_error: 30.1538\n",
            "Epoch 126/150\n",
            "266/266 [==============================] - 0s 1ms/step - loss: 4555433472.0000 - mean_squared_error: 4555433472.0000 - mean_absolute_percentage_error: 30.1189\n",
            "Epoch 127/150\n",
            "266/266 [==============================] - 0s 2ms/step - loss: 4644273664.0000 - mean_squared_error: 4644273664.0000 - mean_absolute_percentage_error: 30.4269\n",
            "Epoch 128/150\n",
            "266/266 [==============================] - 0s 1ms/step - loss: 4527302656.0000 - mean_squared_error: 4527302656.0000 - mean_absolute_percentage_error: 30.0563\n",
            "Epoch 129/150\n",
            "266/266 [==============================] - 0s 2ms/step - loss: 4581419520.0000 - mean_squared_error: 4581419520.0000 - mean_absolute_percentage_error: 30.2246\n",
            "Epoch 130/150\n",
            "266/266 [==============================] - 0s 1ms/step - loss: 4589140480.0000 - mean_squared_error: 4589140480.0000 - mean_absolute_percentage_error: 30.2105\n",
            "Epoch 131/150\n",
            "266/266 [==============================] - 0s 1ms/step - loss: 4547926016.0000 - mean_squared_error: 4547926016.0000 - mean_absolute_percentage_error: 30.1182\n",
            "Epoch 132/150\n",
            "266/266 [==============================] - 0s 2ms/step - loss: 4580456960.0000 - mean_squared_error: 4580456960.0000 - mean_absolute_percentage_error: 30.1897\n",
            "Epoch 133/150\n",
            "266/266 [==============================] - 0s 2ms/step - loss: 4580543488.0000 - mean_squared_error: 4580543488.0000 - mean_absolute_percentage_error: 30.2811\n",
            "Epoch 134/150\n",
            "266/266 [==============================] - 0s 2ms/step - loss: 4527773696.0000 - mean_squared_error: 4527773696.0000 - mean_absolute_percentage_error: 30.1077\n",
            "Epoch 135/150\n",
            "266/266 [==============================] - 0s 1ms/step - loss: 4569044992.0000 - mean_squared_error: 4569044992.0000 - mean_absolute_percentage_error: 30.1632\n",
            "Epoch 136/150\n",
            "266/266 [==============================] - 0s 2ms/step - loss: 4531780608.0000 - mean_squared_error: 4531780608.0000 - mean_absolute_percentage_error: 30.0046\n",
            "Epoch 137/150\n",
            "266/266 [==============================] - 0s 2ms/step - loss: 4544459264.0000 - mean_squared_error: 4544459264.0000 - mean_absolute_percentage_error: 30.1380\n",
            "Epoch 138/150\n",
            "266/266 [==============================] - 0s 1ms/step - loss: 4549057024.0000 - mean_squared_error: 4549057024.0000 - mean_absolute_percentage_error: 30.0411\n",
            "Epoch 139/150\n",
            "266/266 [==============================] - 0s 2ms/step - loss: 4529707520.0000 - mean_squared_error: 4529707520.0000 - mean_absolute_percentage_error: 29.9773\n",
            "Epoch 140/150\n",
            "266/266 [==============================] - 0s 2ms/step - loss: 4536275456.0000 - mean_squared_error: 4536275456.0000 - mean_absolute_percentage_error: 29.9879\n",
            "Epoch 141/150\n",
            "266/266 [==============================] - 0s 1ms/step - loss: 4521063424.0000 - mean_squared_error: 4521063424.0000 - mean_absolute_percentage_error: 30.1144\n",
            "Epoch 142/150\n",
            "266/266 [==============================] - 0s 2ms/step - loss: 4509488128.0000 - mean_squared_error: 4509488128.0000 - mean_absolute_percentage_error: 29.8912\n",
            "Epoch 143/150\n",
            "266/266 [==============================] - 0s 1ms/step - loss: 4476864512.0000 - mean_squared_error: 4476864512.0000 - mean_absolute_percentage_error: 29.7545\n",
            "Epoch 144/150\n",
            "266/266 [==============================] - 0s 2ms/step - loss: 4546391552.0000 - mean_squared_error: 4546391552.0000 - mean_absolute_percentage_error: 30.1658\n",
            "Epoch 145/150\n",
            "266/266 [==============================] - 0s 1ms/step - loss: 4525293056.0000 - mean_squared_error: 4525293056.0000 - mean_absolute_percentage_error: 30.0370\n",
            "Epoch 146/150\n",
            "266/266 [==============================] - 0s 2ms/step - loss: 4491524096.0000 - mean_squared_error: 4491524096.0000 - mean_absolute_percentage_error: 29.9387\n",
            "Epoch 147/150\n",
            "266/266 [==============================] - 0s 1ms/step - loss: 4510011392.0000 - mean_squared_error: 4510011392.0000 - mean_absolute_percentage_error: 29.9363\n",
            "Epoch 148/150\n",
            "266/266 [==============================] - 0s 2ms/step - loss: 4505655296.0000 - mean_squared_error: 4505655296.0000 - mean_absolute_percentage_error: 30.0310\n",
            "Epoch 149/150\n",
            "266/266 [==============================] - 0s 2ms/step - loss: 4457955840.0000 - mean_squared_error: 4457955840.0000 - mean_absolute_percentage_error: 29.7125\n",
            "Epoch 150/150\n",
            "266/266 [==============================] - 0s 1ms/step - loss: 4556882432.0000 - mean_squared_error: 4556882432.0000 - mean_absolute_percentage_error: 30.1735\n"
          ],
          "name": "stdout"
        }
      ]
    },
    {
      "cell_type": "code",
      "metadata": {
        "id": "Dc-7h3XPcDql",
        "colab_type": "code",
        "colab": {
          "base_uri": "https://localhost:8080/",
          "height": 88
        },
        "outputId": "ad0946ea-e679-4520-bee8-2ec3835cee6f"
      },
      "source": [
        "# Evaluate the model\n",
        "print('Evaluate on test data')\n",
        "results = model.evaluate(x_test, y_test)\n",
        "print('test loss, test acc:', results)"
      ],
      "execution_count": 11,
      "outputs": [
        {
          "output_type": "stream",
          "text": [
            "Evaluate on test data\n",
            "94/94 [==============================] - 0s 1ms/step - loss: 4484918272.0000 - mean_squared_error: 4484918272.0000 - mean_absolute_percentage_error: 29.9338\n",
            "test loss, test acc: [4484918272.0, 4484918272.0, 29.9338436126709]\n"
          ],
          "name": "stdout"
        }
      ]
    },
    {
      "cell_type": "code",
      "metadata": {
        "id": "bxCZGn38dvtF",
        "colab_type": "code",
        "colab": {
          "base_uri": "https://localhost:8080/",
          "height": 227
        },
        "outputId": "32319dc3-b20e-4d65-e35d-59cbcc7b0ffb"
      },
      "source": [
        "# Make predictions\n",
        "print('Generate predictions for 3 samples')\n",
        "predictions = model.predict(x_test[:3])\n",
        "print(predictions)\n",
        "# Actual results\n",
        "print(\"Actual results\")\n",
        "y_test.head(3)\n"
      ],
      "execution_count": 12,
      "outputs": [
        {
          "output_type": "stream",
          "text": [
            "Generate predictions for 3 samples\n",
            "[[362961.6 ]\n",
            " [210939.86]\n",
            " [290407.94]]\n",
            "Actual results\n"
          ],
          "name": "stdout"
        },
        {
          "output_type": "execute_result",
          "data": {
            "text/html": [
              "<div>\n",
              "<style scoped>\n",
              "    .dataframe tbody tr th:only-of-type {\n",
              "        vertical-align: middle;\n",
              "    }\n",
              "\n",
              "    .dataframe tbody tr th {\n",
              "        vertical-align: top;\n",
              "    }\n",
              "\n",
              "    .dataframe thead th {\n",
              "        text-align: right;\n",
              "    }\n",
              "</style>\n",
              "<table border=\"1\" class=\"dataframe\">\n",
              "  <thead>\n",
              "    <tr style=\"text-align: right;\">\n",
              "      <th></th>\n",
              "      <th>median_house_value</th>\n",
              "    </tr>\n",
              "  </thead>\n",
              "  <tbody>\n",
              "    <tr>\n",
              "      <th>0</th>\n",
              "      <td>344700.0</td>\n",
              "    </tr>\n",
              "    <tr>\n",
              "      <th>1</th>\n",
              "      <td>176500.0</td>\n",
              "    </tr>\n",
              "    <tr>\n",
              "      <th>2</th>\n",
              "      <td>270500.0</td>\n",
              "    </tr>\n",
              "  </tbody>\n",
              "</table>\n",
              "</div>"
            ],
            "text/plain": [
              "   median_house_value\n",
              "0            344700.0\n",
              "1            176500.0\n",
              "2            270500.0"
            ]
          },
          "metadata": {
            "tags": []
          },
          "execution_count": 12
        }
      ]
    },
    {
      "cell_type": "code",
      "metadata": {
        "id": "WGgKkF-qAJIM",
        "colab_type": "code",
        "colab": {
          "base_uri": "https://localhost:8080/",
          "height": 34
        },
        "outputId": "a6e9aeb9-9c2c-4555-f9a9-3b525f6ea5ec"
      },
      "source": [
        "# Make prediction on entire test set and see accuracy\n",
        "predictions = model.predict(x_test)\n",
        "\n",
        "accuracy = 1- np.mean((np.absolute(y_test - predictions)/y_test))\n",
        "print('Model accuracy = {}%'.format(accuracy[0]*100))"
      ],
      "execution_count": 20,
      "outputs": [
        {
          "output_type": "stream",
          "text": [
            "Model accuracy = 70.06615078694185%\n"
          ],
          "name": "stdout"
        }
      ]
    },
    {
      "cell_type": "markdown",
      "metadata": {
        "id": "sEXZHDiG__qm",
        "colab_type": "text"
      },
      "source": [
        "Awesome! We were able to build a model that can predict the median housing price based on a variety of input features with an accuracy of about 70%.\n",
        "\n",
        "With further tuning, this result could probably be improved, but that's beyound what I would like to cover here.\n",
        "\n",
        "Hopefully, this shows you how easy it is to build models with code. You can also build simple regression models, like logistic regression or multilinear regression, using code. I encourage you to look up how this can be done.\n"
      ]
    },
    {
      "cell_type": "markdown",
      "metadata": {
        "id": "viV5vXsZBGAx",
        "colab_type": "text"
      },
      "source": [
        "## Import note about modelling and data analysis\n",
        "\n",
        "Understanding the basic of how the models you build work is **crucial**. While it is only a few lines of code to build a neural net or a regression model, there is **a ton** of stuff happening under the hood. I strongly recommend learning more about the underlying math for the models you which to build because it will help you evaluate, tune, and make your models, as well as understand its limitations."
      ]
    },
    {
      "cell_type": "markdown",
      "metadata": {
        "id": "Gi2hWmpkByhO",
        "colab_type": "text"
      },
      "source": [
        "## The Cloud\n",
        "Many people might here the word 'The Cloud' whenever they hear the word 'Big Data' or 'Machine Learning'. The reason for this is that to process large datasets, you will need more than one computer. This is because:\n",
        "- Massive amounts of data can't fit in one computer\n",
        "- The processing power of one computer isn't enough to process all of your data\n",
        "\n",
        "The Cloud can help you solve these two problems.\n",
        "\n",
        "Using the cloud let's you write code or store data that appears to the user as if it's at your figure tips, but really the data can be stored in multiple computers all over the world. Pretty neat!\n",
        "\n",
        "If you want to get serious about data analysis and modelling, you will start to see the benefits the cloud provides. Hope that this examples was able to 'bring you above the clouds' and make things clearer...sorry couldn't help myself."
      ]
    },
    {
      "cell_type": "markdown",
      "metadata": {
        "id": "4jI9HiTfCxC7",
        "colab_type": "text"
      },
      "source": [
        "# Conclusion\n",
        "Thanks so much for joining this session! In it you have learned about some of the most important areas that code can help you in as an engineer or business person. The three main areas are:\n",
        "- Automation\n",
        "- Numerical analysis\n",
        "- Data analysis and modelling\n",
        "\n",
        "I hope you found the examples useful and are excited to start exploring all the ways code might help you do your work in a different, more efficient, more scalable, and more enjoyable way. "
      ]
    },
    {
      "cell_type": "markdown",
      "metadata": {
        "id": "bD2rzodqDTbQ",
        "colab_type": "text"
      },
      "source": [
        "## Recommended Resources\n",
        "As promised here are some resources you can check out to learn more.\n",
        "\n",
        "If you think everything covered here in an of itself could be a cool course that you would take, please [let me know](https://ca.linkedin.com/in/zachary-kahn)!\n",
        "\n",
        "However, in the mean time I want to provide some courses and resources I've used that I have really enjoyed.\n",
        "\n",
        "Python\n",
        "- [Complete Python Bootcamp](https://www.udemy.com/course/complete-python-bootcamp/)\n",
        "- [Free Python Courses](https://medium.com/swlh/5-free-python-courses-for-beginners-to-learn-online-e1ca90687caf)\n",
        "- [Python Crash Course](https://cs231n.github.io/python-numpy-tutorial/)\n",
        "\n",
        "SQL\n",
        "- [Complete SQL Bootcamp](https://www.udemy.com/course/the-complete-sql-bootcamp/)\n",
        "- [PostgreSQL Tutorials](https://www.postgresqltutorial.com/)\n",
        "\n",
        "Machine Learning and Data Analysis\n",
        "- [Machine Learning A-Z](https://www.udemy.com/course/machinelearning/)\n",
        "- [Deep Learning Specialization](https://www.coursera.org/specializations/deep-learning)\n",
        "- [Pandas Tutorials](https://pandas.pydata.org/pandas-docs/stable/getting_started/tutorials.html)\n",
        "- [Numpy Tutorials](https://numpy.org/devdocs/user/quickstart.html)"
      ]
    }
  ]
}